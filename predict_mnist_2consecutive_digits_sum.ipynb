{
  "nbformat": 4,
  "nbformat_minor": 0,
  "metadata": {
    "colab": {
      "provenance": []
    },
    "kernelspec": {
      "name": "python3",
      "display_name": "Python 3"
    },
    "language_info": {
      "name": "python"
    }
  },
  "cells": [
    {
      "cell_type": "code",
      "source": [
        "import torch\n",
        "import torch.nn as nn\n",
        "import torchvision.datasets as datasets\n",
        "import torchvision.transforms as transforms\n",
        "import torch.optim as optim\n",
        "\n",
        "from torch.utils.data import DataLoader, TensorDataset"
      ],
      "metadata": {
        "id": "6R8IitySoByy"
      },
      "execution_count": 1,
      "outputs": []
    },
    {
      "cell_type": "code",
      "source": [
        "import matplotlib.pyplot as plt\n",
        "import numpy as np\n",
        "from tqdm import tqdm"
      ],
      "metadata": {
        "id": "Wb7H_W6DzU9A"
      },
      "execution_count": 2,
      "outputs": []
    },
    {
      "cell_type": "markdown",
      "source": [
        "### Create dataset"
      ],
      "metadata": {
        "id": "ngCSp534kVRg"
      }
    },
    {
      "cell_type": "code",
      "source": [
        "mnist_train_dataset = datasets.MNIST(root=\".\", download=True, train=True,\n",
        "                               transform=transforms.Compose([\n",
        "                                transforms.ToTensor(),\n",
        "                                transforms.Normalize((0.5,), (0.5,)),\n",
        "                           ]))\n",
        "\n",
        "mnist_valid_dataset = datasets.MNIST(root=\".\", download=True, train=False,\n",
        "                               transform=transforms.Compose([\n",
        "                                transforms.ToTensor(),\n",
        "                                transforms.Normalize((0.5,), (0.5,)),\n",
        "                           ]))"
      ],
      "metadata": {
        "id": "gURg3KwFoMh-",
        "colab": {
          "base_uri": "https://localhost:8080/"
        },
        "outputId": "cfef3919-c838-4999-960d-b932017d4d3a"
      },
      "execution_count": 3,
      "outputs": [
        {
          "output_type": "stream",
          "name": "stdout",
          "text": [
            "Downloading http://yann.lecun.com/exdb/mnist/train-images-idx3-ubyte.gz\n",
            "Failed to download (trying next):\n",
            "HTTP Error 403: Forbidden\n",
            "\n",
            "Downloading https://ossci-datasets.s3.amazonaws.com/mnist/train-images-idx3-ubyte.gz\n",
            "Downloading https://ossci-datasets.s3.amazonaws.com/mnist/train-images-idx3-ubyte.gz to ./MNIST/raw/train-images-idx3-ubyte.gz\n"
          ]
        },
        {
          "output_type": "stream",
          "name": "stderr",
          "text": [
            "100%|██████████| 9.91M/9.91M [00:00<00:00, 16.2MB/s]\n"
          ]
        },
        {
          "output_type": "stream",
          "name": "stdout",
          "text": [
            "Extracting ./MNIST/raw/train-images-idx3-ubyte.gz to ./MNIST/raw\n",
            "\n",
            "Downloading http://yann.lecun.com/exdb/mnist/train-labels-idx1-ubyte.gz\n",
            "Failed to download (trying next):\n",
            "HTTP Error 403: Forbidden\n",
            "\n",
            "Downloading https://ossci-datasets.s3.amazonaws.com/mnist/train-labels-idx1-ubyte.gz\n",
            "Downloading https://ossci-datasets.s3.amazonaws.com/mnist/train-labels-idx1-ubyte.gz to ./MNIST/raw/train-labels-idx1-ubyte.gz\n"
          ]
        },
        {
          "output_type": "stream",
          "name": "stderr",
          "text": [
            "100%|██████████| 28.9k/28.9k [00:00<00:00, 496kB/s]\n"
          ]
        },
        {
          "output_type": "stream",
          "name": "stdout",
          "text": [
            "Extracting ./MNIST/raw/train-labels-idx1-ubyte.gz to ./MNIST/raw\n",
            "\n",
            "Downloading http://yann.lecun.com/exdb/mnist/t10k-images-idx3-ubyte.gz\n",
            "Failed to download (trying next):\n",
            "HTTP Error 403: Forbidden\n",
            "\n",
            "Downloading https://ossci-datasets.s3.amazonaws.com/mnist/t10k-images-idx3-ubyte.gz\n",
            "Downloading https://ossci-datasets.s3.amazonaws.com/mnist/t10k-images-idx3-ubyte.gz to ./MNIST/raw/t10k-images-idx3-ubyte.gz\n"
          ]
        },
        {
          "output_type": "stream",
          "name": "stderr",
          "text": [
            "100%|██████████| 1.65M/1.65M [00:00<00:00, 4.52MB/s]\n"
          ]
        },
        {
          "output_type": "stream",
          "name": "stdout",
          "text": [
            "Extracting ./MNIST/raw/t10k-images-idx3-ubyte.gz to ./MNIST/raw\n",
            "\n",
            "Downloading http://yann.lecun.com/exdb/mnist/t10k-labels-idx1-ubyte.gz\n",
            "Failed to download (trying next):\n",
            "HTTP Error 403: Forbidden\n",
            "\n",
            "Downloading https://ossci-datasets.s3.amazonaws.com/mnist/t10k-labels-idx1-ubyte.gz\n",
            "Downloading https://ossci-datasets.s3.amazonaws.com/mnist/t10k-labels-idx1-ubyte.gz to ./MNIST/raw/t10k-labels-idx1-ubyte.gz\n"
          ]
        },
        {
          "output_type": "stream",
          "name": "stderr",
          "text": [
            "100%|██████████| 4.54k/4.54k [00:00<00:00, 8.12MB/s]"
          ]
        },
        {
          "output_type": "stream",
          "name": "stdout",
          "text": [
            "Extracting ./MNIST/raw/t10k-labels-idx1-ubyte.gz to ./MNIST/raw\n",
            "\n"
          ]
        },
        {
          "output_type": "stream",
          "name": "stderr",
          "text": [
            "\n"
          ]
        }
      ]
    },
    {
      "cell_type": "code",
      "source": [
        "# https://discuss.pytorch.org/t/attributeerror-subset-object-has-no-attribute-targets/66564/5\n",
        "\n",
        "from torch.utils.data import Dataset\n",
        "\n",
        "class MNIST_consecutive_2digits(Dataset):\n",
        "    r\"\"\"\n",
        "    Subset of a dataset at specified indices.\n",
        "\n",
        "    Arguments:\n",
        "        dataset (Dataset): The whole Dataset\n",
        "        indices (sequence): Indices in the whole set selected for subset\n",
        "        labels(sequence) : targets as required for the indices. will be the same length as indices\n",
        "    \"\"\"\n",
        "    def __init__(self, dataset, indices, labels):\n",
        "        self.dataset = torch.utils.data.Subset(dataset, indices)\n",
        "        self.targets = labels\n",
        "        self.data = dataset.tensors[0]\n",
        "\n",
        "    def __getitem__(self, idx):\n",
        "        image = self.dataset[idx][0]\n",
        "        target = self.targets[idx]\n",
        "        return (image, target)\n",
        "\n",
        "    def __len__(self):\n",
        "        return len(self.targets)"
      ],
      "metadata": {
        "id": "-bkPXeTZH-nq"
      },
      "execution_count": 4,
      "outputs": []
    },
    {
      "cell_type": "code",
      "source": [
        "def create_mnist_2consecutive_digits_dataset(mnist_dataset):\n",
        "  labels = mnist_dataset.targets.numpy()\n",
        "  data = mnist_dataset.data.numpy()\n",
        "\n",
        "  n_pairs = len(labels) // 2\n",
        "  data, labels = data[:n_pairs * 2], labels[:n_pairs * 2]\n",
        "\n",
        "  data_2digits = np.array(np.split(data, n_pairs))\n",
        "  labels_2digits = np.array(np.split(labels, n_pairs))\n",
        "\n",
        "  labels_2digits_sum = np.sum(labels_2digits, axis=1)  # 2つの数字の和\n",
        "  labels_2digits_sum[labels_2digits_sum >= 10] -= 10  # 1の桁をラベルとする\n",
        "\n",
        "  X = torch.tensor(data_2digits, dtype=torch.float32)\n",
        "  X = torch.unsqueeze(X, dim=2)  # [batch, seqlen, height, width] -> [batch, seqlen, 1, height, width]\n",
        "  y = torch.tensor(labels_2digits_sum, dtype=torch.long)\n",
        "\n",
        "  indices = np.arange(len(y))\n",
        "  return MNIST_consecutive_2digits(TensorDataset(X, y), indices, y)"
      ],
      "metadata": {
        "id": "mhBUt2lYESPb"
      },
      "execution_count": 5,
      "outputs": []
    },
    {
      "cell_type": "code",
      "source": [
        "train_dataset = create_mnist_2consecutive_digits_dataset(mnist_train_dataset)\n",
        "valid_dataset = create_mnist_2consecutive_digits_dataset(mnist_valid_dataset)"
      ],
      "metadata": {
        "id": "1nfoCUaHF-Vb"
      },
      "execution_count": 6,
      "outputs": []
    },
    {
      "cell_type": "code",
      "source": [
        "len(train_dataset), len(valid_dataset)"
      ],
      "metadata": {
        "colab": {
          "base_uri": "https://localhost:8080/"
        },
        "id": "W5FccNK8GG2g",
        "outputId": "7ccdf106-f32b-4e68-acfa-8447424f2ee2"
      },
      "execution_count": 7,
      "outputs": [
        {
          "output_type": "execute_result",
          "data": {
            "text/plain": [
              "(30000, 5000)"
            ]
          },
          "metadata": {},
          "execution_count": 7
        }
      ]
    },
    {
      "cell_type": "code",
      "source": [
        "# ラベルの分布の確認\n",
        "np.unique(train_dataset.targets.numpy(), return_counts=True)"
      ],
      "metadata": {
        "colab": {
          "base_uri": "https://localhost:8080/"
        },
        "id": "8FdggJe-JKBq",
        "outputId": "bb46024e-9fbe-4249-a2a8-0d4c9a95fbc7"
      },
      "execution_count": 8,
      "outputs": [
        {
          "output_type": "execute_result",
          "data": {
            "text/plain": [
              "(array([0, 1, 2, 3, 4, 5, 6, 7, 8, 9]),\n",
              " array([2922, 3152, 2986, 3029, 2972, 3051, 2923, 2983, 2915, 3067]))"
            ]
          },
          "metadata": {},
          "execution_count": 8
        }
      ]
    },
    {
      "cell_type": "code",
      "source": [
        "np.unique(valid_dataset.targets.numpy(), return_counts=True)"
      ],
      "metadata": {
        "colab": {
          "base_uri": "https://localhost:8080/"
        },
        "id": "OXBOr7NPJQeb",
        "outputId": "1ea185ba-8f4e-4164-caee-7be3a68c3b84"
      },
      "execution_count": 9,
      "outputs": [
        {
          "output_type": "execute_result",
          "data": {
            "text/plain": [
              "(array([0, 1, 2, 3, 4, 5, 6, 7, 8, 9]),\n",
              " array([463, 591, 439, 591, 442, 553, 436, 549, 424, 512]))"
            ]
          },
          "metadata": {},
          "execution_count": 9
        }
      ]
    },
    {
      "cell_type": "code",
      "source": [
        "# 入力データの次元の確認\n",
        "train_dataset[0][0].shape"
      ],
      "metadata": {
        "colab": {
          "base_uri": "https://localhost:8080/"
        },
        "id": "18O0EbX2nXyd",
        "outputId": "80160b98-4b48-4f5e-e5c6-0b96bdd1833a"
      },
      "execution_count": 10,
      "outputs": [
        {
          "output_type": "execute_result",
          "data": {
            "text/plain": [
              "torch.Size([2, 1, 28, 28])"
            ]
          },
          "metadata": {},
          "execution_count": 10
        }
      ]
    },
    {
      "cell_type": "code",
      "source": [
        "# 入力データとラベルの確認\n",
        "plt.figure(figsize=(10, 10))\n",
        "for j in range(5):\n",
        "  for i in range(len(train_dataset[j][0])):\n",
        "    plt.subplot(5, 2, j*2+i+1)\n",
        "    if i == 0:\n",
        "      plt.title(f\"label: {train_dataset[j][1]}\")\n",
        "    plt.imshow(train_dataset[j][0][i][0])\n",
        "\n",
        "plt.tight_layout()\n",
        "plt.show()"
      ],
      "metadata": {
        "colab": {
          "base_uri": "https://localhost:8080/",
          "height": 1000
        },
        "id": "LH4LXEf0kRcd",
        "outputId": "9d21ee75-575f-4acd-9ff9-3b447d119b24"
      },
      "execution_count": 11,
      "outputs": [
        {
          "output_type": "display_data",
          "data": {
            "text/plain": [
              "<Figure size 1000x1000 with 10 Axes>"
            ],
            "image/png": "[encoded data removed]"
          },
          "metadata": {}
        }
      ]
    },
    {
      "cell_type": "code",
      "source": [
        "train_loader = DataLoader(train_dataset, batch_size=32, shuffle=True)\n",
        "valid_loader = DataLoader(valid_dataset, batch_size=32, shuffle=False)"
      ],
      "metadata": {
        "id": "z-dlR1Ejpccj"
      },
      "execution_count": 12,
      "outputs": []
    },
    {
      "cell_type": "markdown",
      "source": [
        "### Model"
      ],
      "metadata": {
        "id": "poTo3E7Gkaup"
      }
    },
    {
      "cell_type": "code",
      "source": [
        "class CRNN(nn.Module):\n",
        "  def __init__(self, n_classes=10, hidden_size=64):\n",
        "    super(CRNN, self).__init__()\n",
        "    self.cnn = nn.Sequential(\n",
        "        nn.Conv2d(1, 8, kernel_size=3, padding=1),\n",
        "        nn.ReLU(),\n",
        "        nn.MaxPool2d(2),\n",
        "        nn.Conv2d(8, 16, kernel_size=3, padding=1),\n",
        "        nn.ReLU(),\n",
        "        nn.MaxPool2d(2),\n",
        "        nn.Conv2d(16, 32, kernel_size=3, padding=1),\n",
        "        nn.ReLU(),\n",
        "        nn.MaxPool2d(2),  # [batch, 32, 3, 3]\n",
        "        nn.AdaptiveAvgPool2d((1, 1)),  # [batch, 32, 1, 1]\n",
        "        nn.Flatten(),\n",
        "    )\n",
        "    self.lstm = nn.LSTM(input_size=32, hidden_size=hidden_size, num_layers=1, batch_first=True)\n",
        "    self.fc = nn.Linear(hidden_size, n_classes)\n",
        "    self.softmax = nn.LogSoftmax(dim=1)\n",
        "\n",
        "  # Referred to https://github.com/HHTseng/video-classification/blob/master/CRNN/functions.py#L282\n",
        "  def forward(self, x_3d):  # [batch, seqlen, dim, height, width]\n",
        "    cnn_embed_seq = []\n",
        "    for t in range(x_3d.size(1)):\n",
        "      x = self.cnn(x_3d[:, t, :, :, :])\n",
        "      x = x.view(x.size(0), -1)\n",
        "      cnn_embed_seq.append(x)\n",
        "\n",
        "    # swap time and sample dim such that (sample dim, time dim, CNN latent dim)\n",
        "    # cnn_embed_seq = torch.stack(cnn_embed_seq, dim=0).transpose_(0, 1)  # !! THIS DOES NOT WORK. DON'T USE IN-PLACE OPERATION.\n",
        "    cnn_embed_seq = torch.stack(cnn_embed_seq, dim=0).transpose(0, 1)  # [seqlen, batch, dim] -> [batch, seqlen, dim]\n",
        "    out, (h_n, c_n) = self.lstm(cnn_embed_seq)  # [batch, seqlen, hidden], [num_layers, batch, hidden], [num_layers, batch, hidden]\n",
        "    out = self.fc(out[:, -1, :])  # choose RNN_out at the last time step\n",
        "    out = self.softmax(out)\n",
        "    return out"
      ],
      "metadata": {
        "id": "5OrGYBg-kZw-"
      },
      "execution_count": 13,
      "outputs": []
    },
    {
      "cell_type": "code",
      "source": [
        "# test\n",
        "model = CRNN()\n",
        "x = torch.randn(8, 2, 1, 28, 28)\n",
        "y = model(x)\n",
        "y.shape"
      ],
      "metadata": {
        "colab": {
          "base_uri": "https://localhost:8080/"
        },
        "id": "7HshQu2Ylwvo",
        "outputId": "b771ad5f-79a7-41a6-aeb1-381a7b63fa5f"
      },
      "execution_count": 14,
      "outputs": [
        {
          "output_type": "execute_result",
          "data": {
            "text/plain": [
              "torch.Size([8, 10])"
            ]
          },
          "metadata": {},
          "execution_count": 14
        }
      ]
    },
    {
      "cell_type": "code",
      "source": [
        "print(model)"
      ],
      "metadata": {
        "colab": {
          "base_uri": "https://localhost:8080/"
        },
        "id": "lacHjaMoRDTZ",
        "outputId": "ccbf4451-3c4a-4951-d5e1-abfde172e325"
      },
      "execution_count": 22,
      "outputs": [
        {
          "output_type": "stream",
          "name": "stdout",
          "text": [
            "CRNN(\n",
            "  (cnn): Sequential(\n",
            "    (0): Conv2d(1, 8, kernel_size=(3, 3), stride=(1, 1), padding=(1, 1))\n",
            "    (1): ReLU()\n",
            "    (2): MaxPool2d(kernel_size=2, stride=2, padding=0, dilation=1, ceil_mode=False)\n",
            "    (3): Conv2d(8, 16, kernel_size=(3, 3), stride=(1, 1), padding=(1, 1))\n",
            "    (4): ReLU()\n",
            "    (5): MaxPool2d(kernel_size=2, stride=2, padding=0, dilation=1, ceil_mode=False)\n",
            "    (6): Conv2d(16, 32, kernel_size=(3, 3), stride=(1, 1), padding=(1, 1))\n",
            "    (7): ReLU()\n",
            "    (8): MaxPool2d(kernel_size=2, stride=2, padding=0, dilation=1, ceil_mode=False)\n",
            "    (9): AdaptiveAvgPool2d(output_size=(1, 1))\n",
            "    (10): Flatten(start_dim=1, end_dim=-1)\n",
            "  )\n",
            "  (lstm): LSTM(32, 64, batch_first=True)\n",
            "  (fc): Linear(in_features=64, out_features=10, bias=True)\n",
            "  (softmax): LogSoftmax(dim=1)\n",
            ")\n"
          ]
        }
      ]
    },
    {
      "cell_type": "code",
      "source": [
        "! pip install torchview"
      ],
      "metadata": {
        "colab": {
          "base_uri": "https://localhost:8080/"
        },
        "id": "I4swjVS1RFAQ",
        "outputId": "f18f1cbe-45bb-4e35-c14b-ef8ee76ca7f1"
      },
      "execution_count": 23,
      "outputs": [
        {
          "output_type": "stream",
          "name": "stdout",
          "text": [
            "Collecting torchview\n",
            "  Downloading torchview-0.2.6-py3-none-any.whl.metadata (12 kB)\n",
            "Downloading torchview-0.2.6-py3-none-any.whl (25 kB)\n",
            "Installing collected packages: torchview\n",
            "Successfully installed torchview-0.2.6\n"
          ]
        }
      ]
    },
    {
      "cell_type": "code",
      "source": [
        "from torchview import draw_graph\n",
        "\n",
        "# show graph\n",
        "model_graph = draw_graph(model, input_size=x.shape, expand_nested=True)\n",
        "display(model_graph.visual_graph)"
      ],
      "metadata": {
        "colab": {
          "base_uri": "https://localhost:8080/",
          "height": 1000
        },
        "id": "KgmwmpQ5RJh1",
        "outputId": "6001b952-cef9-476f-cc6f-7d5246115009"
      },
      "execution_count": 24,
      "outputs": [
        {
          "output_type": "display_data",
          "data": {
            "image/svg+xml": "<?xml version=\"1.0\" encoding=\"UTF-8\" standalone=\"no\"?>\n<!DOCTYPE svg PUBLIC \"-//W3C//DTD SVG 1.1//EN\"\n \"http://www.w3.org/Graphics/SVG/1.1/DTD/svg11.dtd\">\n<!-- Generated by graphviz version 2.43.0 (0)\n -->\n<!-- Title: model Pages: 1 -->\n<svg width=\"600pt\" height=\"1591pt\"\n viewBox=\"0.00 0.00 600.00 1591.00\" xmlns=\"http://www.w3.org/2000/svg\" xmlns:xlink=\"http://www.w3.org/1999/xlink\">\n<g id=\"graph0\" class=\"graph\" transform=\"scale(1 1) rotate(0) translate(4 1587)\">\n<title>model</title>\n<polygon fill=\"white\" stroke=\"transparent\" points=\"-4,4 -4,-1587 596,-1587 596,4 -4,4\"/>\n<g id=\"clust1\" class=\"cluster\">\n<title>cluster_2</title>\n<polygon fill=\"none\" stroke=\"black\" stroke-dasharray=\"5,2\" points=\"8,-606 8,-1465 292,-1465 292,-606 8,-606\"/>\n<text text-anchor=\"middle\" x=\"41\" y=\"-1451.4\" font-family=\"Times,serif\" font-size=\"12.00\">Sequential</text>\n</g>\n<g id=\"clust2\" class=\"cluster\">\n<title>cluster_3</title>\n<polygon fill=\"none\" stroke=\"black\" stroke-dasharray=\"5,2\" points=\"300,-606 300,-1465 584,-1465 584,-606 300,-606\"/>\n<text text-anchor=\"middle\" x=\"333\" y=\"-1451.4\" font-family=\"Times,serif\" font-size=\"12.00\">Sequential</text>\n</g>\n<!-- 0 -->\n<g id=\"node1\" class=\"node\">\n<title>0</title>\n<polygon fill=\"lightyellow\" stroke=\"transparent\" points=\"389,-1583 193,-1583 193,-1551 389,-1551 389,-1583\"/>\n<polygon fill=\"none\" stroke=\"black\" points=\"193,-1551 193,-1583 276,-1583 276,-1551 193,-1551\"/>\n<text text-anchor=\"start\" x=\"198\" y=\"-1570\" font-family=\"Linux libertine\" font-size=\"10.00\">input&#45;tensor</text>\n<text text-anchor=\"start\" x=\"213\" y=\"-1559\" font-family=\"Linux libertine\" font-size=\"10.00\">depth:0</text>\n<polygon fill=\"none\" stroke=\"black\" points=\"276,-1551 276,-1583 389,-1583 389,-1551 276,-1551\"/>\n<text text-anchor=\"start\" x=\"281\" y=\"-1564.5\" font-family=\"Linux libertine\" font-size=\"10.00\">(8, 2, 1, 28, 28)</text>\n</g>\n<!-- 1 -->\n<g id=\"node2\" class=\"node\">\n<title>1</title>\n<polygon fill=\"aliceblue\" stroke=\"transparent\" points=\"282.5,-1515 27.5,-1515 27.5,-1473 282.5,-1473 282.5,-1515\"/>\n<polygon fill=\"none\" stroke=\"black\" points=\"28,-1473 28,-1515 105,-1515 105,-1473 28,-1473\"/>\n<text text-anchor=\"start\" x=\"33\" y=\"-1497\" font-family=\"Linux libertine\" font-size=\"10.00\">__getitem__</text>\n<text text-anchor=\"start\" x=\"45\" y=\"-1486\" font-family=\"Linux libertine\" font-size=\"10.00\">depth:1</text>\n<polygon fill=\"none\" stroke=\"black\" points=\"105,-1494 105,-1515 164,-1515 164,-1494 105,-1494\"/>\n<text text-anchor=\"start\" x=\"116\" y=\"-1502\" font-family=\"Linux libertine\" font-size=\"10.00\">input:</text>\n<polygon fill=\"none\" stroke=\"black\" points=\"164,-1494 164,-1515 283,-1515 283,-1494 164,-1494\"/>\n<text text-anchor=\"start\" x=\"169\" y=\"-1502\" font-family=\"Linux libertine\" font-size=\"10.00\">(8, 2, 1, 28, 28) </text>\n<polygon fill=\"none\" stroke=\"black\" points=\"105,-1473 105,-1494 164,-1494 164,-1473 105,-1473\"/>\n<text text-anchor=\"start\" x=\"110\" y=\"-1481\" font-family=\"Linux libertine\" font-size=\"10.00\">output: </text>\n<polygon fill=\"none\" stroke=\"black\" points=\"164,-1473 164,-1494 283,-1494 283,-1473 164,-1473\"/>\n<text text-anchor=\"start\" x=\"178\" y=\"-1481\" font-family=\"Linux libertine\" font-size=\"10.00\">(8, 1, 28, 28) </text>\n</g>\n<!-- 0&#45;&gt;1 -->\n<g id=\"edge1\" class=\"edge\">\n<title>0&#45;&gt;1</title>\n<path fill=\"none\" stroke=\"black\" d=\"M262.16,-1550.94C244.78,-1541.87 222.23,-1530.1 202.3,-1519.69\"/>\n<polygon fill=\"black\" stroke=\"black\" points=\"203.84,-1516.55 193.35,-1515.02 200.6,-1522.75 203.84,-1516.55\"/>\n</g>\n<!-- 14 -->\n<g id=\"node15\" class=\"node\">\n<title>14</title>\n<polygon fill=\"aliceblue\" stroke=\"transparent\" points=\"557.5,-1515 302.5,-1515 302.5,-1473 557.5,-1473 557.5,-1515\"/>\n<polygon fill=\"none\" stroke=\"black\" points=\"303,-1473 303,-1515 380,-1515 380,-1473 303,-1473\"/>\n<text text-anchor=\"start\" x=\"308\" y=\"-1497\" font-family=\"Linux libertine\" font-size=\"10.00\">__getitem__</text>\n<text text-anchor=\"start\" x=\"320\" y=\"-1486\" font-family=\"Linux libertine\" font-size=\"10.00\">depth:1</text>\n<polygon fill=\"none\" stroke=\"black\" points=\"380,-1494 380,-1515 439,-1515 439,-1494 380,-1494\"/>\n<text text-anchor=\"start\" x=\"391\" y=\"-1502\" font-family=\"Linux libertine\" font-size=\"10.00\">input:</text>\n<polygon fill=\"none\" stroke=\"black\" points=\"439,-1494 439,-1515 558,-1515 558,-1494 439,-1494\"/>\n<text text-anchor=\"start\" x=\"444\" y=\"-1502\" font-family=\"Linux libertine\" font-size=\"10.00\">(8, 2, 1, 28, 28) </text>\n<polygon fill=\"none\" stroke=\"black\" points=\"380,-1473 380,-1494 439,-1494 439,-1473 380,-1473\"/>\n<text text-anchor=\"start\" x=\"385\" y=\"-1481\" font-family=\"Linux libertine\" font-size=\"10.00\">output: </text>\n<polygon fill=\"none\" stroke=\"black\" points=\"439,-1473 439,-1494 558,-1494 558,-1473 439,-1473\"/>\n<text text-anchor=\"start\" x=\"453\" y=\"-1481\" font-family=\"Linux libertine\" font-size=\"10.00\">(8, 1, 28, 28) </text>\n</g>\n<!-- 0&#45;&gt;14 -->\n<g id=\"edge2\" class=\"edge\">\n<title>0&#45;&gt;14</title>\n<path fill=\"none\" stroke=\"black\" d=\"M320.48,-1550.94C338.24,-1541.87 361.29,-1530.1 381.66,-1519.69\"/>\n<polygon fill=\"black\" stroke=\"black\" points=\"383.49,-1522.69 390.8,-1515.02 380.3,-1516.45 383.49,-1522.69\"/>\n</g>\n<!-- 2 -->\n<g id=\"node3\" class=\"node\">\n<title>2</title>\n<polygon fill=\"#c1ffc1\" stroke=\"transparent\" points=\"257.5,-1436 44.5,-1436 44.5,-1394 257.5,-1394 257.5,-1436\"/>\n<polygon fill=\"none\" stroke=\"black\" points=\"45,-1394 45,-1436 98,-1436 98,-1394 45,-1394\"/>\n<text text-anchor=\"start\" x=\"53\" y=\"-1418\" font-family=\"Linux libertine\" font-size=\"10.00\">Conv2d</text>\n<text text-anchor=\"start\" x=\"50\" y=\"-1407\" font-family=\"Linux libertine\" font-size=\"10.00\">depth:2</text>\n<polygon fill=\"none\" stroke=\"black\" points=\"98,-1415 98,-1436 157,-1436 157,-1415 98,-1415\"/>\n<text text-anchor=\"start\" x=\"109\" y=\"-1423\" font-family=\"Linux libertine\" font-size=\"10.00\">input:</text>\n<polygon fill=\"none\" stroke=\"black\" points=\"157,-1415 157,-1436 258,-1436 258,-1415 157,-1415\"/>\n<text text-anchor=\"start\" x=\"162\" y=\"-1423\" font-family=\"Linux libertine\" font-size=\"10.00\">(8, 1, 28, 28) </text>\n<polygon fill=\"none\" stroke=\"black\" points=\"98,-1394 98,-1415 157,-1415 157,-1394 98,-1394\"/>\n<text text-anchor=\"start\" x=\"103\" y=\"-1402\" font-family=\"Linux libertine\" font-size=\"10.00\">output: </text>\n<polygon fill=\"none\" stroke=\"black\" points=\"157,-1394 157,-1415 258,-1415 258,-1394 157,-1394\"/>\n<text text-anchor=\"start\" x=\"162\" y=\"-1402\" font-family=\"Linux libertine\" font-size=\"10.00\">(8, 8, 28, 28) </text>\n</g>\n<!-- 1&#45;&gt;2 -->\n<g id=\"edge3\" class=\"edge\">\n<title>1&#45;&gt;2</title>\n<path fill=\"none\" stroke=\"black\" d=\"M153.95,-1472.77C153.53,-1464.63 153.03,-1455.08 152.57,-1446.16\"/>\n<polygon fill=\"black\" stroke=\"black\" points=\"156.06,-1445.9 152.04,-1436.1 149.07,-1446.26 156.06,-1445.9\"/>\n</g>\n<!-- 3 -->\n<g id=\"node4\" class=\"node\">\n<title>3</title>\n<polygon fill=\"#c1ffc1\" stroke=\"transparent\" points=\"257.5,-1358 44.5,-1358 44.5,-1316 257.5,-1316 257.5,-1358\"/>\n<polygon fill=\"none\" stroke=\"black\" points=\"45,-1316 45,-1358 98,-1358 98,-1316 45,-1316\"/>\n<text text-anchor=\"start\" x=\"59\" y=\"-1340\" font-family=\"Linux libertine\" font-size=\"10.00\">ReLU</text>\n<text text-anchor=\"start\" x=\"50\" y=\"-1329\" font-family=\"Linux libertine\" font-size=\"10.00\">depth:2</text>\n<polygon fill=\"none\" stroke=\"black\" points=\"98,-1337 98,-1358 157,-1358 157,-1337 98,-1337\"/>\n<text text-anchor=\"start\" x=\"109\" y=\"-1345\" font-family=\"Linux libertine\" font-size=\"10.00\">input:</text>\n<polygon fill=\"none\" stroke=\"black\" points=\"157,-1337 157,-1358 258,-1358 258,-1337 157,-1337\"/>\n<text text-anchor=\"start\" x=\"162\" y=\"-1345\" font-family=\"Linux libertine\" font-size=\"10.00\">(8, 8, 28, 28) </text>\n<polygon fill=\"none\" stroke=\"black\" points=\"98,-1316 98,-1337 157,-1337 157,-1316 98,-1316\"/>\n<text text-anchor=\"start\" x=\"103\" y=\"-1324\" font-family=\"Linux libertine\" font-size=\"10.00\">output: </text>\n<polygon fill=\"none\" stroke=\"black\" points=\"157,-1316 157,-1337 258,-1337 258,-1316 157,-1316\"/>\n<text text-anchor=\"start\" x=\"162\" y=\"-1324\" font-family=\"Linux libertine\" font-size=\"10.00\">(8, 8, 28, 28) </text>\n</g>\n<!-- 2&#45;&gt;3 -->\n<g id=\"edge4\" class=\"edge\">\n<title>2&#45;&gt;3</title>\n<path fill=\"none\" stroke=\"black\" d=\"M151,-1393.63C151,-1385.82 151,-1376.73 151,-1368.18\"/>\n<polygon fill=\"black\" stroke=\"black\" points=\"154.5,-1368.16 151,-1358.16 147.5,-1368.16 154.5,-1368.16\"/>\n</g>\n<!-- 4 -->\n<g id=\"node5\" class=\"node\">\n<title>4</title>\n<polygon fill=\"#c1ffc1\" stroke=\"transparent\" points=\"263.5,-1280 38.5,-1280 38.5,-1238 263.5,-1238 263.5,-1280\"/>\n<polygon fill=\"none\" stroke=\"black\" points=\"39,-1238 39,-1280 104,-1280 104,-1238 39,-1238\"/>\n<text text-anchor=\"start\" x=\"44\" y=\"-1262\" font-family=\"Linux libertine\" font-size=\"10.00\">MaxPool2d</text>\n<text text-anchor=\"start\" x=\"50\" y=\"-1251\" font-family=\"Linux libertine\" font-size=\"10.00\">depth:2</text>\n<polygon fill=\"none\" stroke=\"black\" points=\"104,-1259 104,-1280 163,-1280 163,-1259 104,-1259\"/>\n<text text-anchor=\"start\" x=\"115\" y=\"-1267\" font-family=\"Linux libertine\" font-size=\"10.00\">input:</text>\n<polygon fill=\"none\" stroke=\"black\" points=\"163,-1259 163,-1280 264,-1280 264,-1259 163,-1259\"/>\n<text text-anchor=\"start\" x=\"168\" y=\"-1267\" font-family=\"Linux libertine\" font-size=\"10.00\">(8, 8, 28, 28) </text>\n<polygon fill=\"none\" stroke=\"black\" points=\"104,-1238 104,-1259 163,-1259 163,-1238 104,-1238\"/>\n<text text-anchor=\"start\" x=\"109\" y=\"-1246\" font-family=\"Linux libertine\" font-size=\"10.00\">output: </text>\n<polygon fill=\"none\" stroke=\"black\" points=\"163,-1238 163,-1259 264,-1259 264,-1238 163,-1238\"/>\n<text text-anchor=\"start\" x=\"168\" y=\"-1246\" font-family=\"Linux libertine\" font-size=\"10.00\">(8, 8, 14, 14) </text>\n</g>\n<!-- 3&#45;&gt;4 -->\n<g id=\"edge5\" class=\"edge\">\n<title>3&#45;&gt;4</title>\n<path fill=\"none\" stroke=\"black\" d=\"M151,-1315.63C151,-1307.82 151,-1298.73 151,-1290.18\"/>\n<polygon fill=\"black\" stroke=\"black\" points=\"154.5,-1290.16 151,-1280.16 147.5,-1290.16 154.5,-1290.16\"/>\n</g>\n<!-- 5 -->\n<g id=\"node6\" class=\"node\">\n<title>5</title>\n<polygon fill=\"#c1ffc1\" stroke=\"transparent\" points=\"260.5,-1202 41.5,-1202 41.5,-1160 260.5,-1160 260.5,-1202\"/>\n<polygon fill=\"none\" stroke=\"black\" points=\"42,-1160 42,-1202 95,-1202 95,-1160 42,-1160\"/>\n<text text-anchor=\"start\" x=\"50\" y=\"-1184\" font-family=\"Linux libertine\" font-size=\"10.00\">Conv2d</text>\n<text text-anchor=\"start\" x=\"47\" y=\"-1173\" font-family=\"Linux libertine\" font-size=\"10.00\">depth:2</text>\n<polygon fill=\"none\" stroke=\"black\" points=\"95,-1181 95,-1202 154,-1202 154,-1181 95,-1181\"/>\n<text text-anchor=\"start\" x=\"106\" y=\"-1189\" font-family=\"Linux libertine\" font-size=\"10.00\">input:</text>\n<polygon fill=\"none\" stroke=\"black\" points=\"154,-1181 154,-1202 261,-1202 261,-1181 154,-1181\"/>\n<text text-anchor=\"start\" x=\"162\" y=\"-1189\" font-family=\"Linux libertine\" font-size=\"10.00\">(8, 8, 14, 14) </text>\n<polygon fill=\"none\" stroke=\"black\" points=\"95,-1160 95,-1181 154,-1181 154,-1160 95,-1160\"/>\n<text text-anchor=\"start\" x=\"100\" y=\"-1168\" font-family=\"Linux libertine\" font-size=\"10.00\">output: </text>\n<polygon fill=\"none\" stroke=\"black\" points=\"154,-1160 154,-1181 261,-1181 261,-1160 154,-1160\"/>\n<text text-anchor=\"start\" x=\"159\" y=\"-1168\" font-family=\"Linux libertine\" font-size=\"10.00\">(8, 16, 14, 14) </text>\n</g>\n<!-- 4&#45;&gt;5 -->\n<g id=\"edge6\" class=\"edge\">\n<title>4&#45;&gt;5</title>\n<path fill=\"none\" stroke=\"black\" d=\"M151,-1237.63C151,-1229.82 151,-1220.73 151,-1212.18\"/>\n<polygon fill=\"black\" stroke=\"black\" points=\"154.5,-1212.16 151,-1202.16 147.5,-1212.16 154.5,-1212.16\"/>\n</g>\n<!-- 6 -->\n<g id=\"node7\" class=\"node\">\n<title>6</title>\n<polygon fill=\"#c1ffc1\" stroke=\"transparent\" points=\"260.5,-1124 41.5,-1124 41.5,-1082 260.5,-1082 260.5,-1124\"/>\n<polygon fill=\"none\" stroke=\"black\" points=\"42,-1082 42,-1124 95,-1124 95,-1082 42,-1082\"/>\n<text text-anchor=\"start\" x=\"56\" y=\"-1106\" font-family=\"Linux libertine\" font-size=\"10.00\">ReLU</text>\n<text text-anchor=\"start\" x=\"47\" y=\"-1095\" font-family=\"Linux libertine\" font-size=\"10.00\">depth:2</text>\n<polygon fill=\"none\" stroke=\"black\" points=\"95,-1103 95,-1124 154,-1124 154,-1103 95,-1103\"/>\n<text text-anchor=\"start\" x=\"106\" y=\"-1111\" font-family=\"Linux libertine\" font-size=\"10.00\">input:</text>\n<polygon fill=\"none\" stroke=\"black\" points=\"154,-1103 154,-1124 261,-1124 261,-1103 154,-1103\"/>\n<text text-anchor=\"start\" x=\"159\" y=\"-1111\" font-family=\"Linux libertine\" font-size=\"10.00\">(8, 16, 14, 14) </text>\n<polygon fill=\"none\" stroke=\"black\" points=\"95,-1082 95,-1103 154,-1103 154,-1082 95,-1082\"/>\n<text text-anchor=\"start\" x=\"100\" y=\"-1090\" font-family=\"Linux libertine\" font-size=\"10.00\">output: </text>\n<polygon fill=\"none\" stroke=\"black\" points=\"154,-1082 154,-1103 261,-1103 261,-1082 154,-1082\"/>\n<text text-anchor=\"start\" x=\"159\" y=\"-1090\" font-family=\"Linux libertine\" font-size=\"10.00\">(8, 16, 14, 14) </text>\n</g>\n<!-- 5&#45;&gt;6 -->\n<g id=\"edge7\" class=\"edge\">\n<title>5&#45;&gt;6</title>\n<path fill=\"none\" stroke=\"black\" d=\"M151,-1159.63C151,-1151.82 151,-1142.73 151,-1134.18\"/>\n<polygon fill=\"black\" stroke=\"black\" points=\"154.5,-1134.16 151,-1124.16 147.5,-1134.16 154.5,-1134.16\"/>\n</g>\n<!-- 7 -->\n<g id=\"node8\" class=\"node\">\n<title>7</title>\n<polygon fill=\"#c1ffc1\" stroke=\"transparent\" points=\"266.5,-1046 35.5,-1046 35.5,-1004 266.5,-1004 266.5,-1046\"/>\n<polygon fill=\"none\" stroke=\"black\" points=\"36,-1004 36,-1046 101,-1046 101,-1004 36,-1004\"/>\n<text text-anchor=\"start\" x=\"41\" y=\"-1028\" font-family=\"Linux libertine\" font-size=\"10.00\">MaxPool2d</text>\n<text text-anchor=\"start\" x=\"47\" y=\"-1017\" font-family=\"Linux libertine\" font-size=\"10.00\">depth:2</text>\n<polygon fill=\"none\" stroke=\"black\" points=\"101,-1025 101,-1046 160,-1046 160,-1025 101,-1025\"/>\n<text text-anchor=\"start\" x=\"112\" y=\"-1033\" font-family=\"Linux libertine\" font-size=\"10.00\">input:</text>\n<polygon fill=\"none\" stroke=\"black\" points=\"160,-1025 160,-1046 267,-1046 267,-1025 160,-1025\"/>\n<text text-anchor=\"start\" x=\"165\" y=\"-1033\" font-family=\"Linux libertine\" font-size=\"10.00\">(8, 16, 14, 14) </text>\n<polygon fill=\"none\" stroke=\"black\" points=\"101,-1004 101,-1025 160,-1025 160,-1004 101,-1004\"/>\n<text text-anchor=\"start\" x=\"106\" y=\"-1012\" font-family=\"Linux libertine\" font-size=\"10.00\">output: </text>\n<polygon fill=\"none\" stroke=\"black\" points=\"160,-1004 160,-1025 267,-1025 267,-1004 160,-1004\"/>\n<text text-anchor=\"start\" x=\"171\" y=\"-1012\" font-family=\"Linux libertine\" font-size=\"10.00\">(8, 16, 7, 7) </text>\n</g>\n<!-- 6&#45;&gt;7 -->\n<g id=\"edge8\" class=\"edge\">\n<title>6&#45;&gt;7</title>\n<path fill=\"none\" stroke=\"black\" d=\"M151,-1081.63C151,-1073.82 151,-1064.73 151,-1056.18\"/>\n<polygon fill=\"black\" stroke=\"black\" points=\"154.5,-1056.16 151,-1046.16 147.5,-1056.16 154.5,-1056.16\"/>\n</g>\n<!-- 8 -->\n<g id=\"node9\" class=\"node\">\n<title>8</title>\n<polygon fill=\"#c1ffc1\" stroke=\"transparent\" points=\"254.5,-968 47.5,-968 47.5,-926 254.5,-926 254.5,-968\"/>\n<polygon fill=\"none\" stroke=\"black\" points=\"48,-926 48,-968 101,-968 101,-926 48,-926\"/>\n<text text-anchor=\"start\" x=\"56\" y=\"-950\" font-family=\"Linux libertine\" font-size=\"10.00\">Conv2d</text>\n<text text-anchor=\"start\" x=\"53\" y=\"-939\" font-family=\"Linux libertine\" font-size=\"10.00\">depth:2</text>\n<polygon fill=\"none\" stroke=\"black\" points=\"101,-947 101,-968 160,-968 160,-947 101,-947\"/>\n<text text-anchor=\"start\" x=\"112\" y=\"-955\" font-family=\"Linux libertine\" font-size=\"10.00\">input:</text>\n<polygon fill=\"none\" stroke=\"black\" points=\"160,-947 160,-968 255,-968 255,-947 160,-947\"/>\n<text text-anchor=\"start\" x=\"165\" y=\"-955\" font-family=\"Linux libertine\" font-size=\"10.00\">(8, 16, 7, 7) </text>\n<polygon fill=\"none\" stroke=\"black\" points=\"101,-926 101,-947 160,-947 160,-926 101,-926\"/>\n<text text-anchor=\"start\" x=\"106\" y=\"-934\" font-family=\"Linux libertine\" font-size=\"10.00\">output: </text>\n<polygon fill=\"none\" stroke=\"black\" points=\"160,-926 160,-947 255,-947 255,-926 160,-926\"/>\n<text text-anchor=\"start\" x=\"165\" y=\"-934\" font-family=\"Linux libertine\" font-size=\"10.00\">(8, 32, 7, 7) </text>\n</g>\n<!-- 7&#45;&gt;8 -->\n<g id=\"edge9\" class=\"edge\">\n<title>7&#45;&gt;8</title>\n<path fill=\"none\" stroke=\"black\" d=\"M151,-1003.63C151,-995.82 151,-986.73 151,-978.18\"/>\n<polygon fill=\"black\" stroke=\"black\" points=\"154.5,-978.16 151,-968.16 147.5,-978.16 154.5,-978.16\"/>\n</g>\n<!-- 9 -->\n<g id=\"node10\" class=\"node\">\n<title>9</title>\n<polygon fill=\"#c1ffc1\" stroke=\"transparent\" points=\"253.5,-890 46.5,-890 46.5,-848 253.5,-848 253.5,-890\"/>\n<polygon fill=\"none\" stroke=\"black\" points=\"47,-848 47,-890 100,-890 100,-848 47,-848\"/>\n<text text-anchor=\"start\" x=\"61\" y=\"-872\" font-family=\"Linux libertine\" font-size=\"10.00\">ReLU</text>\n<text text-anchor=\"start\" x=\"52\" y=\"-861\" font-family=\"Linux libertine\" font-size=\"10.00\">depth:2</text>\n<polygon fill=\"none\" stroke=\"black\" points=\"100,-869 100,-890 159,-890 159,-869 100,-869\"/>\n<text text-anchor=\"start\" x=\"111\" y=\"-877\" font-family=\"Linux libertine\" font-size=\"10.00\">input:</text>\n<polygon fill=\"none\" stroke=\"black\" points=\"159,-869 159,-890 254,-890 254,-869 159,-869\"/>\n<text text-anchor=\"start\" x=\"164\" y=\"-877\" font-family=\"Linux libertine\" font-size=\"10.00\">(8, 32, 7, 7) </text>\n<polygon fill=\"none\" stroke=\"black\" points=\"100,-848 100,-869 159,-869 159,-848 100,-848\"/>\n<text text-anchor=\"start\" x=\"105\" y=\"-856\" font-family=\"Linux libertine\" font-size=\"10.00\">output: </text>\n<polygon fill=\"none\" stroke=\"black\" points=\"159,-848 159,-869 254,-869 254,-848 159,-848\"/>\n<text text-anchor=\"start\" x=\"164\" y=\"-856\" font-family=\"Linux libertine\" font-size=\"10.00\">(8, 32, 7, 7) </text>\n</g>\n<!-- 8&#45;&gt;9 -->\n<g id=\"edge10\" class=\"edge\">\n<title>8&#45;&gt;9</title>\n<path fill=\"none\" stroke=\"black\" d=\"M150.73,-925.63C150.63,-917.82 150.51,-908.73 150.4,-900.18\"/>\n<polygon fill=\"black\" stroke=\"black\" points=\"153.9,-900.11 150.27,-890.16 146.9,-900.2 153.9,-900.11\"/>\n</g>\n<!-- 10 -->\n<g id=\"node11\" class=\"node\">\n<title>10</title>\n<polygon fill=\"#c1ffc1\" stroke=\"transparent\" points=\"259.5,-812 40.5,-812 40.5,-770 259.5,-770 259.5,-812\"/>\n<polygon fill=\"none\" stroke=\"black\" points=\"41,-770 41,-812 106,-812 106,-770 41,-770\"/>\n<text text-anchor=\"start\" x=\"46\" y=\"-794\" font-family=\"Linux libertine\" font-size=\"10.00\">MaxPool2d</text>\n<text text-anchor=\"start\" x=\"52\" y=\"-783\" font-family=\"Linux libertine\" font-size=\"10.00\">depth:2</text>\n<polygon fill=\"none\" stroke=\"black\" points=\"106,-791 106,-812 165,-812 165,-791 106,-791\"/>\n<text text-anchor=\"start\" x=\"117\" y=\"-799\" font-family=\"Linux libertine\" font-size=\"10.00\">input:</text>\n<polygon fill=\"none\" stroke=\"black\" points=\"165,-791 165,-812 260,-812 260,-791 165,-791\"/>\n<text text-anchor=\"start\" x=\"170\" y=\"-799\" font-family=\"Linux libertine\" font-size=\"10.00\">(8, 32, 7, 7) </text>\n<polygon fill=\"none\" stroke=\"black\" points=\"106,-770 106,-791 165,-791 165,-770 106,-770\"/>\n<text text-anchor=\"start\" x=\"111\" y=\"-778\" font-family=\"Linux libertine\" font-size=\"10.00\">output: </text>\n<polygon fill=\"none\" stroke=\"black\" points=\"165,-770 165,-791 260,-791 260,-770 165,-770\"/>\n<text text-anchor=\"start\" x=\"170\" y=\"-778\" font-family=\"Linux libertine\" font-size=\"10.00\">(8, 32, 3, 3) </text>\n</g>\n<!-- 9&#45;&gt;10 -->\n<g id=\"edge11\" class=\"edge\">\n<title>9&#45;&gt;10</title>\n<path fill=\"none\" stroke=\"black\" d=\"M150,-847.63C150,-839.82 150,-830.73 150,-822.18\"/>\n<polygon fill=\"black\" stroke=\"black\" points=\"153.5,-822.16 150,-812.16 146.5,-822.16 153.5,-822.16\"/>\n</g>\n<!-- 11 -->\n<g id=\"node12\" class=\"node\">\n<title>11</title>\n<polygon fill=\"#c1ffc1\" stroke=\"transparent\" points=\"283.5,-734 16.5,-734 16.5,-692 283.5,-692 283.5,-734\"/>\n<polygon fill=\"none\" stroke=\"black\" points=\"17,-692 17,-734 130,-734 130,-692 17,-692\"/>\n<text text-anchor=\"start\" x=\"22\" y=\"-716\" font-family=\"Linux libertine\" font-size=\"10.00\">AdaptiveAvgPool2d</text>\n<text text-anchor=\"start\" x=\"52\" y=\"-705\" font-family=\"Linux libertine\" font-size=\"10.00\">depth:2</text>\n<polygon fill=\"none\" stroke=\"black\" points=\"130,-713 130,-734 189,-734 189,-713 130,-713\"/>\n<text text-anchor=\"start\" x=\"141\" y=\"-721\" font-family=\"Linux libertine\" font-size=\"10.00\">input:</text>\n<polygon fill=\"none\" stroke=\"black\" points=\"189,-713 189,-734 284,-734 284,-713 189,-713\"/>\n<text text-anchor=\"start\" x=\"194\" y=\"-721\" font-family=\"Linux libertine\" font-size=\"10.00\">(8, 32, 3, 3) </text>\n<polygon fill=\"none\" stroke=\"black\" points=\"130,-692 130,-713 189,-713 189,-692 130,-692\"/>\n<text text-anchor=\"start\" x=\"135\" y=\"-700\" font-family=\"Linux libertine\" font-size=\"10.00\">output: </text>\n<polygon fill=\"none\" stroke=\"black\" points=\"189,-692 189,-713 284,-713 284,-692 189,-692\"/>\n<text text-anchor=\"start\" x=\"194\" y=\"-700\" font-family=\"Linux libertine\" font-size=\"10.00\">(8, 32, 1, 1) </text>\n</g>\n<!-- 10&#45;&gt;11 -->\n<g id=\"edge12\" class=\"edge\">\n<title>10&#45;&gt;11</title>\n<path fill=\"none\" stroke=\"black\" d=\"M150,-769.63C150,-761.82 150,-752.73 150,-744.18\"/>\n<polygon fill=\"black\" stroke=\"black\" points=\"153.5,-744.16 150,-734.16 146.5,-744.16 153.5,-744.16\"/>\n</g>\n<!-- 12 -->\n<g id=\"node13\" class=\"node\">\n<title>12</title>\n<polygon fill=\"#c1ffc1\" stroke=\"transparent\" points=\"264.5,-656 57.5,-656 57.5,-614 264.5,-614 264.5,-656\"/>\n<polygon fill=\"none\" stroke=\"black\" points=\"58,-614 58,-656 111,-656 111,-614 58,-614\"/>\n<text text-anchor=\"start\" x=\"63\" y=\"-638\" font-family=\"Linux libertine\" font-size=\"10.00\">Flatten</text>\n<text text-anchor=\"start\" x=\"63\" y=\"-627\" font-family=\"Linux libertine\" font-size=\"10.00\">depth:2</text>\n<polygon fill=\"none\" stroke=\"black\" points=\"111,-635 111,-656 170,-656 170,-635 111,-635\"/>\n<text text-anchor=\"start\" x=\"122\" y=\"-643\" font-family=\"Linux libertine\" font-size=\"10.00\">input:</text>\n<polygon fill=\"none\" stroke=\"black\" points=\"170,-635 170,-656 265,-656 265,-635 170,-635\"/>\n<text text-anchor=\"start\" x=\"175\" y=\"-643\" font-family=\"Linux libertine\" font-size=\"10.00\">(8, 32, 1, 1) </text>\n<polygon fill=\"none\" stroke=\"black\" points=\"111,-614 111,-635 170,-635 170,-614 111,-614\"/>\n<text text-anchor=\"start\" x=\"116\" y=\"-622\" font-family=\"Linux libertine\" font-size=\"10.00\">output: </text>\n<polygon fill=\"none\" stroke=\"black\" points=\"170,-614 170,-635 265,-635 265,-614 170,-614\"/>\n<text text-anchor=\"start\" x=\"193\" y=\"-622\" font-family=\"Linux libertine\" font-size=\"10.00\">(8, 32) </text>\n</g>\n<!-- 11&#45;&gt;12 -->\n<g id=\"edge13\" class=\"edge\">\n<title>11&#45;&gt;12</title>\n<path fill=\"none\" stroke=\"black\" d=\"M152.95,-691.63C154.08,-683.82 155.4,-674.73 156.63,-666.18\"/>\n<polygon fill=\"black\" stroke=\"black\" points=\"160.11,-666.56 158.08,-656.16 153.19,-665.55 160.11,-666.56\"/>\n</g>\n<!-- 13 -->\n<g id=\"node14\" class=\"node\">\n<title>13</title>\n<polygon fill=\"aliceblue\" stroke=\"transparent\" points=\"290.5,-578 119.5,-578 119.5,-536 290.5,-536 290.5,-578\"/>\n<polygon fill=\"none\" stroke=\"black\" points=\"120,-536 120,-578 173,-578 173,-536 120,-536\"/>\n<text text-anchor=\"start\" x=\"134\" y=\"-560\" font-family=\"Linux libertine\" font-size=\"10.00\">view</text>\n<text text-anchor=\"start\" x=\"125\" y=\"-549\" font-family=\"Linux libertine\" font-size=\"10.00\">depth:1</text>\n<polygon fill=\"none\" stroke=\"black\" points=\"173,-557 173,-578 232,-578 232,-557 173,-557\"/>\n<text text-anchor=\"start\" x=\"184\" y=\"-565\" font-family=\"Linux libertine\" font-size=\"10.00\">input:</text>\n<polygon fill=\"none\" stroke=\"black\" points=\"232,-557 232,-578 291,-578 291,-557 232,-557\"/>\n<text text-anchor=\"start\" x=\"237\" y=\"-565\" font-family=\"Linux libertine\" font-size=\"10.00\">(8, 32) </text>\n<polygon fill=\"none\" stroke=\"black\" points=\"173,-536 173,-557 232,-557 232,-536 173,-536\"/>\n<text text-anchor=\"start\" x=\"178\" y=\"-544\" font-family=\"Linux libertine\" font-size=\"10.00\">output: </text>\n<polygon fill=\"none\" stroke=\"black\" points=\"232,-536 232,-557 291,-557 291,-536 232,-536\"/>\n<text text-anchor=\"start\" x=\"237\" y=\"-544\" font-family=\"Linux libertine\" font-size=\"10.00\">(8, 32) </text>\n</g>\n<!-- 12&#45;&gt;13 -->\n<g id=\"edge14\" class=\"edge\">\n<title>12&#45;&gt;13</title>\n<path fill=\"none\" stroke=\"black\" d=\"M172.79,-613.63C177.51,-605.48 183.04,-595.92 188.18,-587.06\"/>\n<polygon fill=\"black\" stroke=\"black\" points=\"191.35,-588.57 193.33,-578.16 185.29,-585.06 191.35,-588.57\"/>\n</g>\n<!-- 27 -->\n<g id=\"node28\" class=\"node\">\n<title>27</title>\n<polygon fill=\"aliceblue\" stroke=\"transparent\" points=\"396.5,-500 201.5,-500 201.5,-458 396.5,-458 396.5,-500\"/>\n<polygon fill=\"none\" stroke=\"black\" points=\"202,-458 202,-500 255,-500 255,-458 202,-458\"/>\n<text text-anchor=\"start\" x=\"213\" y=\"-482\" font-family=\"Linux libertine\" font-size=\"10.00\">stack</text>\n<text text-anchor=\"start\" x=\"207\" y=\"-471\" font-family=\"Linux libertine\" font-size=\"10.00\">depth:1</text>\n<polygon fill=\"none\" stroke=\"black\" points=\"255,-479 255,-500 314,-500 314,-479 255,-479\"/>\n<text text-anchor=\"start\" x=\"266\" y=\"-487\" font-family=\"Linux libertine\" font-size=\"10.00\">input:</text>\n<polygon fill=\"none\" stroke=\"black\" points=\"314,-479 314,-500 397,-500 397,-479 314,-479\"/>\n<text text-anchor=\"start\" x=\"319\" y=\"-487\" font-family=\"Linux libertine\" font-size=\"10.00\">2 x (8, 32) </text>\n<polygon fill=\"none\" stroke=\"black\" points=\"255,-458 255,-479 314,-479 314,-458 255,-458\"/>\n<text text-anchor=\"start\" x=\"260\" y=\"-466\" font-family=\"Linux libertine\" font-size=\"10.00\">output: </text>\n<polygon fill=\"none\" stroke=\"black\" points=\"314,-458 314,-479 397,-479 397,-458 314,-458\"/>\n<text text-anchor=\"start\" x=\"322\" y=\"-466\" font-family=\"Linux libertine\" font-size=\"10.00\">(2, 8, 32) </text>\n</g>\n<!-- 13&#45;&gt;27 -->\n<g id=\"edge15\" class=\"edge\">\n<title>13&#45;&gt;27</title>\n<path fill=\"none\" stroke=\"black\" d=\"M230.19,-535.63C241.24,-526.7 254.35,-516.1 266.15,-506.56\"/>\n<polygon fill=\"black\" stroke=\"black\" points=\"268.49,-509.17 274.07,-500.16 264.09,-503.72 268.49,-509.17\"/>\n</g>\n<!-- 15 -->\n<g id=\"node16\" class=\"node\">\n<title>15</title>\n<polygon fill=\"#c1ffc1\" stroke=\"transparent\" points=\"536.5,-1436 323.5,-1436 323.5,-1394 536.5,-1394 536.5,-1436\"/>\n<polygon fill=\"none\" stroke=\"black\" points=\"324,-1394 324,-1436 377,-1436 377,-1394 324,-1394\"/>\n<text text-anchor=\"start\" x=\"332\" y=\"-1418\" font-family=\"Linux libertine\" font-size=\"10.00\">Conv2d</text>\n<text text-anchor=\"start\" x=\"329\" y=\"-1407\" font-family=\"Linux libertine\" font-size=\"10.00\">depth:2</text>\n<polygon fill=\"none\" stroke=\"black\" points=\"377,-1415 377,-1436 436,-1436 436,-1415 377,-1415\"/>\n<text text-anchor=\"start\" x=\"388\" y=\"-1423\" font-family=\"Linux libertine\" font-size=\"10.00\">input:</text>\n<polygon fill=\"none\" stroke=\"black\" points=\"436,-1415 436,-1436 537,-1436 537,-1415 436,-1415\"/>\n<text text-anchor=\"start\" x=\"441\" y=\"-1423\" font-family=\"Linux libertine\" font-size=\"10.00\">(8, 1, 28, 28) </text>\n<polygon fill=\"none\" stroke=\"black\" points=\"377,-1394 377,-1415 436,-1415 436,-1394 377,-1394\"/>\n<text text-anchor=\"start\" x=\"382\" y=\"-1402\" font-family=\"Linux libertine\" font-size=\"10.00\">output: </text>\n<polygon fill=\"none\" stroke=\"black\" points=\"436,-1394 436,-1415 537,-1415 537,-1394 436,-1394\"/>\n<text text-anchor=\"start\" x=\"441\" y=\"-1402\" font-family=\"Linux libertine\" font-size=\"10.00\">(8, 8, 28, 28) </text>\n</g>\n<!-- 14&#45;&gt;15 -->\n<g id=\"edge16\" class=\"edge\">\n<title>14&#45;&gt;15</title>\n<path fill=\"none\" stroke=\"black\" d=\"M430,-1472.77C430,-1464.63 430,-1455.08 430,-1446.16\"/>\n<polygon fill=\"black\" stroke=\"black\" points=\"433.5,-1446.1 430,-1436.1 426.5,-1446.1 433.5,-1446.1\"/>\n</g>\n<!-- 16 -->\n<g id=\"node17\" class=\"node\">\n<title>16</title>\n<polygon fill=\"#c1ffc1\" stroke=\"transparent\" points=\"536.5,-1358 323.5,-1358 323.5,-1316 536.5,-1316 536.5,-1358\"/>\n<polygon fill=\"none\" stroke=\"black\" points=\"324,-1316 324,-1358 377,-1358 377,-1316 324,-1316\"/>\n<text text-anchor=\"start\" x=\"338\" y=\"-1340\" font-family=\"Linux libertine\" font-size=\"10.00\">ReLU</text>\n<text text-anchor=\"start\" x=\"329\" y=\"-1329\" font-family=\"Linux libertine\" font-size=\"10.00\">depth:2</text>\n<polygon fill=\"none\" stroke=\"black\" points=\"377,-1337 377,-1358 436,-1358 436,-1337 377,-1337\"/>\n<text text-anchor=\"start\" x=\"388\" y=\"-1345\" font-family=\"Linux libertine\" font-size=\"10.00\">input:</text>\n<polygon fill=\"none\" stroke=\"black\" points=\"436,-1337 436,-1358 537,-1358 537,-1337 436,-1337\"/>\n<text text-anchor=\"start\" x=\"441\" y=\"-1345\" font-family=\"Linux libertine\" font-size=\"10.00\">(8, 8, 28, 28) </text>\n<polygon fill=\"none\" stroke=\"black\" points=\"377,-1316 377,-1337 436,-1337 436,-1316 377,-1316\"/>\n<text text-anchor=\"start\" x=\"382\" y=\"-1324\" font-family=\"Linux libertine\" font-size=\"10.00\">output: </text>\n<polygon fill=\"none\" stroke=\"black\" points=\"436,-1316 436,-1337 537,-1337 537,-1316 436,-1316\"/>\n<text text-anchor=\"start\" x=\"441\" y=\"-1324\" font-family=\"Linux libertine\" font-size=\"10.00\">(8, 8, 28, 28) </text>\n</g>\n<!-- 15&#45;&gt;16 -->\n<g id=\"edge17\" class=\"edge\">\n<title>15&#45;&gt;16</title>\n<path fill=\"none\" stroke=\"black\" d=\"M430,-1393.63C430,-1385.82 430,-1376.73 430,-1368.18\"/>\n<polygon fill=\"black\" stroke=\"black\" points=\"433.5,-1368.16 430,-1358.16 426.5,-1368.16 433.5,-1368.16\"/>\n</g>\n<!-- 17 -->\n<g id=\"node18\" class=\"node\">\n<title>17</title>\n<polygon fill=\"#c1ffc1\" stroke=\"transparent\" points=\"542.5,-1280 317.5,-1280 317.5,-1238 542.5,-1238 542.5,-1280\"/>\n<polygon fill=\"none\" stroke=\"black\" points=\"318,-1238 318,-1280 383,-1280 383,-1238 318,-1238\"/>\n<text text-anchor=\"start\" x=\"323\" y=\"-1262\" font-family=\"Linux libertine\" font-size=\"10.00\">MaxPool2d</text>\n<text text-anchor=\"start\" x=\"329\" y=\"-1251\" font-family=\"Linux libertine\" font-size=\"10.00\">depth:2</text>\n<polygon fill=\"none\" stroke=\"black\" points=\"383,-1259 383,-1280 442,-1280 442,-1259 383,-1259\"/>\n<text text-anchor=\"start\" x=\"394\" y=\"-1267\" font-family=\"Linux libertine\" font-size=\"10.00\">input:</text>\n<polygon fill=\"none\" stroke=\"black\" points=\"442,-1259 442,-1280 543,-1280 543,-1259 442,-1259\"/>\n<text text-anchor=\"start\" x=\"447\" y=\"-1267\" font-family=\"Linux libertine\" font-size=\"10.00\">(8, 8, 28, 28) </text>\n<polygon fill=\"none\" stroke=\"black\" points=\"383,-1238 383,-1259 442,-1259 442,-1238 383,-1238\"/>\n<text text-anchor=\"start\" x=\"388\" y=\"-1246\" font-family=\"Linux libertine\" font-size=\"10.00\">output: </text>\n<polygon fill=\"none\" stroke=\"black\" points=\"442,-1238 442,-1259 543,-1259 543,-1238 442,-1238\"/>\n<text text-anchor=\"start\" x=\"447\" y=\"-1246\" font-family=\"Linux libertine\" font-size=\"10.00\">(8, 8, 14, 14) </text>\n</g>\n<!-- 16&#45;&gt;17 -->\n<g id=\"edge18\" class=\"edge\">\n<title>16&#45;&gt;17</title>\n<path fill=\"none\" stroke=\"black\" d=\"M430,-1315.63C430,-1307.82 430,-1298.73 430,-1290.18\"/>\n<polygon fill=\"black\" stroke=\"black\" points=\"433.5,-1290.16 430,-1280.16 426.5,-1290.16 433.5,-1290.16\"/>\n</g>\n<!-- 18 -->\n<g id=\"node19\" class=\"node\">\n<title>18</title>\n<polygon fill=\"#c1ffc1\" stroke=\"transparent\" points=\"540.5,-1202 321.5,-1202 321.5,-1160 540.5,-1160 540.5,-1202\"/>\n<polygon fill=\"none\" stroke=\"black\" points=\"322,-1160 322,-1202 375,-1202 375,-1160 322,-1160\"/>\n<text text-anchor=\"start\" x=\"330\" y=\"-1184\" font-family=\"Linux libertine\" font-size=\"10.00\">Conv2d</text>\n<text text-anchor=\"start\" x=\"327\" y=\"-1173\" font-family=\"Linux libertine\" font-size=\"10.00\">depth:2</text>\n<polygon fill=\"none\" stroke=\"black\" points=\"375,-1181 375,-1202 434,-1202 434,-1181 375,-1181\"/>\n<text text-anchor=\"start\" x=\"386\" y=\"-1189\" font-family=\"Linux libertine\" font-size=\"10.00\">input:</text>\n<polygon fill=\"none\" stroke=\"black\" points=\"434,-1181 434,-1202 541,-1202 541,-1181 434,-1181\"/>\n<text text-anchor=\"start\" x=\"442\" y=\"-1189\" font-family=\"Linux libertine\" font-size=\"10.00\">(8, 8, 14, 14) </text>\n<polygon fill=\"none\" stroke=\"black\" points=\"375,-1160 375,-1181 434,-1181 434,-1160 375,-1160\"/>\n<text text-anchor=\"start\" x=\"380\" y=\"-1168\" font-family=\"Linux libertine\" font-size=\"10.00\">output: </text>\n<polygon fill=\"none\" stroke=\"black\" points=\"434,-1160 434,-1181 541,-1181 541,-1160 434,-1160\"/>\n<text text-anchor=\"start\" x=\"439\" y=\"-1168\" font-family=\"Linux libertine\" font-size=\"10.00\">(8, 16, 14, 14) </text>\n</g>\n<!-- 17&#45;&gt;18 -->\n<g id=\"edge19\" class=\"edge\">\n<title>17&#45;&gt;18</title>\n<path fill=\"none\" stroke=\"black\" d=\"M430.27,-1237.63C430.37,-1229.82 430.49,-1220.73 430.6,-1212.18\"/>\n<polygon fill=\"black\" stroke=\"black\" points=\"434.1,-1212.2 430.73,-1202.16 427.1,-1212.11 434.1,-1212.2\"/>\n</g>\n<!-- 19 -->\n<g id=\"node20\" class=\"node\">\n<title>19</title>\n<polygon fill=\"#c1ffc1\" stroke=\"transparent\" points=\"540.5,-1124 321.5,-1124 321.5,-1082 540.5,-1082 540.5,-1124\"/>\n<polygon fill=\"none\" stroke=\"black\" points=\"322,-1082 322,-1124 375,-1124 375,-1082 322,-1082\"/>\n<text text-anchor=\"start\" x=\"336\" y=\"-1106\" font-family=\"Linux libertine\" font-size=\"10.00\">ReLU</text>\n<text text-anchor=\"start\" x=\"327\" y=\"-1095\" font-family=\"Linux libertine\" font-size=\"10.00\">depth:2</text>\n<polygon fill=\"none\" stroke=\"black\" points=\"375,-1103 375,-1124 434,-1124 434,-1103 375,-1103\"/>\n<text text-anchor=\"start\" x=\"386\" y=\"-1111\" font-family=\"Linux libertine\" font-size=\"10.00\">input:</text>\n<polygon fill=\"none\" stroke=\"black\" points=\"434,-1103 434,-1124 541,-1124 541,-1103 434,-1103\"/>\n<text text-anchor=\"start\" x=\"439\" y=\"-1111\" font-family=\"Linux libertine\" font-size=\"10.00\">(8, 16, 14, 14) </text>\n<polygon fill=\"none\" stroke=\"black\" points=\"375,-1082 375,-1103 434,-1103 434,-1082 375,-1082\"/>\n<text text-anchor=\"start\" x=\"380\" y=\"-1090\" font-family=\"Linux libertine\" font-size=\"10.00\">output: </text>\n<polygon fill=\"none\" stroke=\"black\" points=\"434,-1082 434,-1103 541,-1103 541,-1082 434,-1082\"/>\n<text text-anchor=\"start\" x=\"439\" y=\"-1090\" font-family=\"Linux libertine\" font-size=\"10.00\">(8, 16, 14, 14) </text>\n</g>\n<!-- 18&#45;&gt;19 -->\n<g id=\"edge20\" class=\"edge\">\n<title>18&#45;&gt;19</title>\n<path fill=\"none\" stroke=\"black\" d=\"M431,-1159.63C431,-1151.82 431,-1142.73 431,-1134.18\"/>\n<polygon fill=\"black\" stroke=\"black\" points=\"434.5,-1134.16 431,-1124.16 427.5,-1134.16 434.5,-1134.16\"/>\n</g>\n<!-- 20 -->\n<g id=\"node21\" class=\"node\">\n<title>20</title>\n<polygon fill=\"#c1ffc1\" stroke=\"transparent\" points=\"547.5,-1046 316.5,-1046 316.5,-1004 547.5,-1004 547.5,-1046\"/>\n<polygon fill=\"none\" stroke=\"black\" points=\"317,-1004 317,-1046 382,-1046 382,-1004 317,-1004\"/>\n<text text-anchor=\"start\" x=\"322\" y=\"-1028\" font-family=\"Linux libertine\" font-size=\"10.00\">MaxPool2d</text>\n<text text-anchor=\"start\" x=\"328\" y=\"-1017\" font-family=\"Linux libertine\" font-size=\"10.00\">depth:2</text>\n<polygon fill=\"none\" stroke=\"black\" points=\"382,-1025 382,-1046 441,-1046 441,-1025 382,-1025\"/>\n<text text-anchor=\"start\" x=\"393\" y=\"-1033\" font-family=\"Linux libertine\" font-size=\"10.00\">input:</text>\n<polygon fill=\"none\" stroke=\"black\" points=\"441,-1025 441,-1046 548,-1046 548,-1025 441,-1025\"/>\n<text text-anchor=\"start\" x=\"446\" y=\"-1033\" font-family=\"Linux libertine\" font-size=\"10.00\">(8, 16, 14, 14) </text>\n<polygon fill=\"none\" stroke=\"black\" points=\"382,-1004 382,-1025 441,-1025 441,-1004 382,-1004\"/>\n<text text-anchor=\"start\" x=\"387\" y=\"-1012\" font-family=\"Linux libertine\" font-size=\"10.00\">output: </text>\n<polygon fill=\"none\" stroke=\"black\" points=\"441,-1004 441,-1025 548,-1025 548,-1004 441,-1004\"/>\n<text text-anchor=\"start\" x=\"452\" y=\"-1012\" font-family=\"Linux libertine\" font-size=\"10.00\">(8, 16, 7, 7) </text>\n</g>\n<!-- 19&#45;&gt;20 -->\n<g id=\"edge21\" class=\"edge\">\n<title>19&#45;&gt;20</title>\n<path fill=\"none\" stroke=\"black\" d=\"M431.27,-1081.63C431.37,-1073.82 431.49,-1064.73 431.6,-1056.18\"/>\n<polygon fill=\"black\" stroke=\"black\" points=\"435.1,-1056.2 431.73,-1046.16 428.1,-1056.11 435.1,-1056.2\"/>\n</g>\n<!-- 21 -->\n<g id=\"node22\" class=\"node\">\n<title>21</title>\n<polygon fill=\"#c1ffc1\" stroke=\"transparent\" points=\"536.5,-968 329.5,-968 329.5,-926 536.5,-926 536.5,-968\"/>\n<polygon fill=\"none\" stroke=\"black\" points=\"330,-926 330,-968 383,-968 383,-926 330,-926\"/>\n<text text-anchor=\"start\" x=\"338\" y=\"-950\" font-family=\"Linux libertine\" font-size=\"10.00\">Conv2d</text>\n<text text-anchor=\"start\" x=\"335\" y=\"-939\" font-family=\"Linux libertine\" font-size=\"10.00\">depth:2</text>\n<polygon fill=\"none\" stroke=\"black\" points=\"383,-947 383,-968 442,-968 442,-947 383,-947\"/>\n<text text-anchor=\"start\" x=\"394\" y=\"-955\" font-family=\"Linux libertine\" font-size=\"10.00\">input:</text>\n<polygon fill=\"none\" stroke=\"black\" points=\"442,-947 442,-968 537,-968 537,-947 442,-947\"/>\n<text text-anchor=\"start\" x=\"447\" y=\"-955\" font-family=\"Linux libertine\" font-size=\"10.00\">(8, 16, 7, 7) </text>\n<polygon fill=\"none\" stroke=\"black\" points=\"383,-926 383,-947 442,-947 442,-926 383,-926\"/>\n<text text-anchor=\"start\" x=\"388\" y=\"-934\" font-family=\"Linux libertine\" font-size=\"10.00\">output: </text>\n<polygon fill=\"none\" stroke=\"black\" points=\"442,-926 442,-947 537,-947 537,-926 442,-926\"/>\n<text text-anchor=\"start\" x=\"447\" y=\"-934\" font-family=\"Linux libertine\" font-size=\"10.00\">(8, 32, 7, 7) </text>\n</g>\n<!-- 20&#45;&gt;21 -->\n<g id=\"edge22\" class=\"edge\">\n<title>20&#45;&gt;21</title>\n<path fill=\"none\" stroke=\"black\" d=\"M432.27,-1003.63C432.37,-995.82 432.49,-986.73 432.6,-978.18\"/>\n<polygon fill=\"black\" stroke=\"black\" points=\"436.1,-978.2 432.73,-968.16 429.1,-978.11 436.1,-978.2\"/>\n</g>\n<!-- 22 -->\n<g id=\"node23\" class=\"node\">\n<title>22</title>\n<polygon fill=\"#c1ffc1\" stroke=\"transparent\" points=\"541.5,-890 334.5,-890 334.5,-848 541.5,-848 541.5,-890\"/>\n<polygon fill=\"none\" stroke=\"black\" points=\"335,-848 335,-890 388,-890 388,-848 335,-848\"/>\n<text text-anchor=\"start\" x=\"349\" y=\"-872\" font-family=\"Linux libertine\" font-size=\"10.00\">ReLU</text>\n<text text-anchor=\"start\" x=\"340\" y=\"-861\" font-family=\"Linux libertine\" font-size=\"10.00\">depth:2</text>\n<polygon fill=\"none\" stroke=\"black\" points=\"388,-869 388,-890 447,-890 447,-869 388,-869\"/>\n<text text-anchor=\"start\" x=\"399\" y=\"-877\" font-family=\"Linux libertine\" font-size=\"10.00\">input:</text>\n<polygon fill=\"none\" stroke=\"black\" points=\"447,-869 447,-890 542,-890 542,-869 447,-869\"/>\n<text text-anchor=\"start\" x=\"452\" y=\"-877\" font-family=\"Linux libertine\" font-size=\"10.00\">(8, 32, 7, 7) </text>\n<polygon fill=\"none\" stroke=\"black\" points=\"388,-848 388,-869 447,-869 447,-848 388,-848\"/>\n<text text-anchor=\"start\" x=\"393\" y=\"-856\" font-family=\"Linux libertine\" font-size=\"10.00\">output: </text>\n<polygon fill=\"none\" stroke=\"black\" points=\"447,-848 447,-869 542,-869 542,-848 447,-848\"/>\n<text text-anchor=\"start\" x=\"452\" y=\"-856\" font-family=\"Linux libertine\" font-size=\"10.00\">(8, 32, 7, 7) </text>\n</g>\n<!-- 21&#45;&gt;22 -->\n<g id=\"edge23\" class=\"edge\">\n<title>21&#45;&gt;22</title>\n<path fill=\"none\" stroke=\"black\" d=\"M434.34,-925.63C434.85,-917.82 435.45,-908.73 436.01,-900.18\"/>\n<polygon fill=\"black\" stroke=\"black\" points=\"439.51,-900.37 436.67,-890.16 432.52,-899.91 439.51,-900.37\"/>\n</g>\n<!-- 23 -->\n<g id=\"node24\" class=\"node\">\n<title>23</title>\n<polygon fill=\"#c1ffc1\" stroke=\"transparent\" points=\"549.5,-812 330.5,-812 330.5,-770 549.5,-770 549.5,-812\"/>\n<polygon fill=\"none\" stroke=\"black\" points=\"331,-770 331,-812 396,-812 396,-770 331,-770\"/>\n<text text-anchor=\"start\" x=\"336\" y=\"-794\" font-family=\"Linux libertine\" font-size=\"10.00\">MaxPool2d</text>\n<text text-anchor=\"start\" x=\"342\" y=\"-783\" font-family=\"Linux libertine\" font-size=\"10.00\">depth:2</text>\n<polygon fill=\"none\" stroke=\"black\" points=\"396,-791 396,-812 455,-812 455,-791 396,-791\"/>\n<text text-anchor=\"start\" x=\"407\" y=\"-799\" font-family=\"Linux libertine\" font-size=\"10.00\">input:</text>\n<polygon fill=\"none\" stroke=\"black\" points=\"455,-791 455,-812 550,-812 550,-791 455,-791\"/>\n<text text-anchor=\"start\" x=\"460\" y=\"-799\" font-family=\"Linux libertine\" font-size=\"10.00\">(8, 32, 7, 7) </text>\n<polygon fill=\"none\" stroke=\"black\" points=\"396,-770 396,-791 455,-791 455,-770 396,-770\"/>\n<text text-anchor=\"start\" x=\"401\" y=\"-778\" font-family=\"Linux libertine\" font-size=\"10.00\">output: </text>\n<polygon fill=\"none\" stroke=\"black\" points=\"455,-770 455,-791 550,-791 550,-770 455,-770\"/>\n<text text-anchor=\"start\" x=\"460\" y=\"-778\" font-family=\"Linux libertine\" font-size=\"10.00\">(8, 32, 3, 3) </text>\n</g>\n<!-- 22&#45;&gt;23 -->\n<g id=\"edge24\" class=\"edge\">\n<title>22&#45;&gt;23</title>\n<path fill=\"none\" stroke=\"black\" d=\"M438.54,-847.63C438.74,-839.82 438.98,-830.73 439.21,-822.18\"/>\n<polygon fill=\"black\" stroke=\"black\" points=\"442.71,-822.25 439.47,-812.16 435.71,-822.06 442.71,-822.25\"/>\n</g>\n<!-- 24 -->\n<g id=\"node25\" class=\"node\">\n<title>24</title>\n<polygon fill=\"#c1ffc1\" stroke=\"transparent\" points=\"575.5,-734 308.5,-734 308.5,-692 575.5,-692 575.5,-734\"/>\n<polygon fill=\"none\" stroke=\"black\" points=\"309,-692 309,-734 422,-734 422,-692 309,-692\"/>\n<text text-anchor=\"start\" x=\"314\" y=\"-716\" font-family=\"Linux libertine\" font-size=\"10.00\">AdaptiveAvgPool2d</text>\n<text text-anchor=\"start\" x=\"344\" y=\"-705\" font-family=\"Linux libertine\" font-size=\"10.00\">depth:2</text>\n<polygon fill=\"none\" stroke=\"black\" points=\"422,-713 422,-734 481,-734 481,-713 422,-713\"/>\n<text text-anchor=\"start\" x=\"433\" y=\"-721\" font-family=\"Linux libertine\" font-size=\"10.00\">input:</text>\n<polygon fill=\"none\" stroke=\"black\" points=\"481,-713 481,-734 576,-734 576,-713 481,-713\"/>\n<text text-anchor=\"start\" x=\"486\" y=\"-721\" font-family=\"Linux libertine\" font-size=\"10.00\">(8, 32, 3, 3) </text>\n<polygon fill=\"none\" stroke=\"black\" points=\"422,-692 422,-713 481,-713 481,-692 422,-692\"/>\n<text text-anchor=\"start\" x=\"427\" y=\"-700\" font-family=\"Linux libertine\" font-size=\"10.00\">output: </text>\n<polygon fill=\"none\" stroke=\"black\" points=\"481,-692 481,-713 576,-713 576,-692 481,-692\"/>\n<text text-anchor=\"start\" x=\"486\" y=\"-700\" font-family=\"Linux libertine\" font-size=\"10.00\">(8, 32, 1, 1) </text>\n</g>\n<!-- 23&#45;&gt;24 -->\n<g id=\"edge25\" class=\"edge\">\n<title>23&#45;&gt;24</title>\n<path fill=\"none\" stroke=\"black\" d=\"M440.54,-769.63C440.74,-761.82 440.98,-752.73 441.21,-744.18\"/>\n<polygon fill=\"black\" stroke=\"black\" points=\"444.71,-744.25 441.47,-734.16 437.71,-744.06 444.71,-744.25\"/>\n</g>\n<!-- 25 -->\n<g id=\"node26\" class=\"node\">\n<title>25</title>\n<polygon fill=\"#c1ffc1\" stroke=\"transparent\" points=\"530.5,-656 323.5,-656 323.5,-614 530.5,-614 530.5,-656\"/>\n<polygon fill=\"none\" stroke=\"black\" points=\"324,-614 324,-656 377,-656 377,-614 324,-614\"/>\n<text text-anchor=\"start\" x=\"329\" y=\"-638\" font-family=\"Linux libertine\" font-size=\"10.00\">Flatten</text>\n<text text-anchor=\"start\" x=\"329\" y=\"-627\" font-family=\"Linux libertine\" font-size=\"10.00\">depth:2</text>\n<polygon fill=\"none\" stroke=\"black\" points=\"377,-635 377,-656 436,-656 436,-635 377,-635\"/>\n<text text-anchor=\"start\" x=\"388\" y=\"-643\" font-family=\"Linux libertine\" font-size=\"10.00\">input:</text>\n<polygon fill=\"none\" stroke=\"black\" points=\"436,-635 436,-656 531,-656 531,-635 436,-635\"/>\n<text text-anchor=\"start\" x=\"441\" y=\"-643\" font-family=\"Linux libertine\" font-size=\"10.00\">(8, 32, 1, 1) </text>\n<polygon fill=\"none\" stroke=\"black\" points=\"377,-614 377,-635 436,-635 436,-614 377,-614\"/>\n<text text-anchor=\"start\" x=\"382\" y=\"-622\" font-family=\"Linux libertine\" font-size=\"10.00\">output: </text>\n<polygon fill=\"none\" stroke=\"black\" points=\"436,-614 436,-635 531,-635 531,-614 436,-614\"/>\n<text text-anchor=\"start\" x=\"459\" y=\"-622\" font-family=\"Linux libertine\" font-size=\"10.00\">(8, 32) </text>\n</g>\n<!-- 24&#45;&gt;25 -->\n<g id=\"edge26\" class=\"edge\">\n<title>24&#45;&gt;25</title>\n<path fill=\"none\" stroke=\"black\" d=\"M437.98,-691.63C436.44,-683.82 434.64,-674.73 432.96,-666.18\"/>\n<polygon fill=\"black\" stroke=\"black\" points=\"436.35,-665.29 430.98,-656.16 429.48,-666.65 436.35,-665.29\"/>\n</g>\n<!-- 26 -->\n<g id=\"node27\" class=\"node\">\n<title>26</title>\n<polygon fill=\"aliceblue\" stroke=\"transparent\" points=\"501.5,-578 330.5,-578 330.5,-536 501.5,-536 501.5,-578\"/>\n<polygon fill=\"none\" stroke=\"black\" points=\"331,-536 331,-578 384,-578 384,-536 331,-536\"/>\n<text text-anchor=\"start\" x=\"345\" y=\"-560\" font-family=\"Linux libertine\" font-size=\"10.00\">view</text>\n<text text-anchor=\"start\" x=\"336\" y=\"-549\" font-family=\"Linux libertine\" font-size=\"10.00\">depth:1</text>\n<polygon fill=\"none\" stroke=\"black\" points=\"384,-557 384,-578 443,-578 443,-557 384,-557\"/>\n<text text-anchor=\"start\" x=\"395\" y=\"-565\" font-family=\"Linux libertine\" font-size=\"10.00\">input:</text>\n<polygon fill=\"none\" stroke=\"black\" points=\"443,-557 443,-578 502,-578 502,-557 443,-557\"/>\n<text text-anchor=\"start\" x=\"448\" y=\"-565\" font-family=\"Linux libertine\" font-size=\"10.00\">(8, 32) </text>\n<polygon fill=\"none\" stroke=\"black\" points=\"384,-536 384,-557 443,-557 443,-536 384,-536\"/>\n<text text-anchor=\"start\" x=\"389\" y=\"-544\" font-family=\"Linux libertine\" font-size=\"10.00\">output: </text>\n<polygon fill=\"none\" stroke=\"black\" points=\"443,-536 443,-557 502,-557 502,-536 443,-536\"/>\n<text text-anchor=\"start\" x=\"448\" y=\"-544\" font-family=\"Linux libertine\" font-size=\"10.00\">(8, 32) </text>\n</g>\n<!-- 25&#45;&gt;26 -->\n<g id=\"edge27\" class=\"edge\">\n<title>25&#45;&gt;26</title>\n<path fill=\"none\" stroke=\"black\" d=\"M424.05,-613.63C422.92,-605.82 421.6,-596.73 420.37,-588.18\"/>\n<polygon fill=\"black\" stroke=\"black\" points=\"423.81,-587.55 418.92,-578.16 416.89,-588.56 423.81,-587.55\"/>\n</g>\n<!-- 26&#45;&gt;27 -->\n<g id=\"edge28\" class=\"edge\">\n<title>26&#45;&gt;27</title>\n<path fill=\"none\" stroke=\"black\" d=\"M384.95,-535.83C370.81,-526.64 353.89,-515.65 338.82,-505.86\"/>\n<polygon fill=\"black\" stroke=\"black\" points=\"340.48,-502.77 330.19,-500.26 336.67,-508.64 340.48,-502.77\"/>\n</g>\n<!-- 28 -->\n<g id=\"node29\" class=\"node\">\n<title>28</title>\n<polygon fill=\"aliceblue\" stroke=\"transparent\" points=\"399.5,-422 198.5,-422 198.5,-380 399.5,-380 399.5,-422\"/>\n<polygon fill=\"none\" stroke=\"black\" points=\"199,-380 199,-422 264,-422 264,-380 199,-380\"/>\n<text text-anchor=\"start\" x=\"204\" y=\"-404\" font-family=\"Linux libertine\" font-size=\"10.00\">transpose</text>\n<text text-anchor=\"start\" x=\"210\" y=\"-393\" font-family=\"Linux libertine\" font-size=\"10.00\">depth:1</text>\n<polygon fill=\"none\" stroke=\"black\" points=\"264,-401 264,-422 323,-422 323,-401 264,-401\"/>\n<text text-anchor=\"start\" x=\"275\" y=\"-409\" font-family=\"Linux libertine\" font-size=\"10.00\">input:</text>\n<polygon fill=\"none\" stroke=\"black\" points=\"323,-401 323,-422 400,-422 400,-401 323,-401\"/>\n<text text-anchor=\"start\" x=\"328\" y=\"-409\" font-family=\"Linux libertine\" font-size=\"10.00\">(2, 8, 32) </text>\n<polygon fill=\"none\" stroke=\"black\" points=\"264,-380 264,-401 323,-401 323,-380 264,-380\"/>\n<text text-anchor=\"start\" x=\"269\" y=\"-388\" font-family=\"Linux libertine\" font-size=\"10.00\">output: </text>\n<polygon fill=\"none\" stroke=\"black\" points=\"323,-380 323,-401 400,-401 400,-380 323,-380\"/>\n<text text-anchor=\"start\" x=\"328\" y=\"-388\" font-family=\"Linux libertine\" font-size=\"10.00\">(8, 2, 32) </text>\n</g>\n<!-- 27&#45;&gt;28 -->\n<g id=\"edge29\" class=\"edge\">\n<title>27&#45;&gt;28</title>\n<path fill=\"none\" stroke=\"black\" d=\"M299,-457.63C299,-449.82 299,-440.73 299,-432.18\"/>\n<polygon fill=\"black\" stroke=\"black\" points=\"302.5,-432.16 299,-422.16 295.5,-432.16 302.5,-432.16\"/>\n</g>\n<!-- 29 -->\n<g id=\"node30\" class=\"node\">\n<title>29</title>\n<polygon fill=\"#c1ffc1\" stroke=\"transparent\" points=\"441.5,-344 156.5,-344 156.5,-302 441.5,-302 441.5,-344\"/>\n<polygon fill=\"none\" stroke=\"black\" points=\"157,-302 157,-344 210,-344 210,-302 157,-302\"/>\n<text text-anchor=\"start\" x=\"171\" y=\"-326\" font-family=\"Linux libertine\" font-size=\"10.00\">LSTM</text>\n<text text-anchor=\"start\" x=\"162\" y=\"-315\" font-family=\"Linux libertine\" font-size=\"10.00\">depth:1</text>\n<polygon fill=\"none\" stroke=\"black\" points=\"210,-323 210,-344 269,-344 269,-323 210,-323\"/>\n<text text-anchor=\"start\" x=\"221\" y=\"-331\" font-family=\"Linux libertine\" font-size=\"10.00\">input:</text>\n<polygon fill=\"none\" stroke=\"black\" points=\"269,-323 269,-344 442,-344 442,-323 269,-323\"/>\n<text text-anchor=\"start\" x=\"322\" y=\"-331\" font-family=\"Linux libertine\" font-size=\"10.00\">(8, 2, 32) </text>\n<polygon fill=\"none\" stroke=\"black\" points=\"210,-302 210,-323 269,-323 269,-302 210,-302\"/>\n<text text-anchor=\"start\" x=\"215\" y=\"-310\" font-family=\"Linux libertine\" font-size=\"10.00\">output: </text>\n<polygon fill=\"none\" stroke=\"black\" points=\"269,-302 269,-323 442,-323 442,-302 269,-302\"/>\n<text text-anchor=\"start\" x=\"274\" y=\"-310\" font-family=\"Linux libertine\" font-size=\"10.00\">(8, 2, 64), 2 x (1, 8, 64) </text>\n</g>\n<!-- 28&#45;&gt;29 -->\n<g id=\"edge30\" class=\"edge\">\n<title>28&#45;&gt;29</title>\n<path fill=\"none\" stroke=\"black\" d=\"M299,-379.63C299,-371.82 299,-362.73 299,-354.18\"/>\n<polygon fill=\"black\" stroke=\"black\" points=\"302.5,-354.16 299,-344.16 295.5,-354.16 302.5,-354.16\"/>\n</g>\n<!-- 30 -->\n<g id=\"node31\" class=\"node\">\n<title>30</title>\n<polygon fill=\"aliceblue\" stroke=\"transparent\" points=\"405.5,-266 192.5,-266 192.5,-224 405.5,-224 405.5,-266\"/>\n<polygon fill=\"none\" stroke=\"black\" points=\"193,-224 193,-266 270,-266 270,-224 193,-224\"/>\n<text text-anchor=\"start\" x=\"198\" y=\"-248\" font-family=\"Linux libertine\" font-size=\"10.00\">__getitem__</text>\n<text text-anchor=\"start\" x=\"210\" y=\"-237\" font-family=\"Linux libertine\" font-size=\"10.00\">depth:1</text>\n<polygon fill=\"none\" stroke=\"black\" points=\"270,-245 270,-266 329,-266 329,-245 270,-245\"/>\n<text text-anchor=\"start\" x=\"281\" y=\"-253\" font-family=\"Linux libertine\" font-size=\"10.00\">input:</text>\n<polygon fill=\"none\" stroke=\"black\" points=\"329,-245 329,-266 406,-266 406,-245 329,-245\"/>\n<text text-anchor=\"start\" x=\"334\" y=\"-253\" font-family=\"Linux libertine\" font-size=\"10.00\">(8, 2, 64) </text>\n<polygon fill=\"none\" stroke=\"black\" points=\"270,-224 270,-245 329,-245 329,-224 270,-224\"/>\n<text text-anchor=\"start\" x=\"275\" y=\"-232\" font-family=\"Linux libertine\" font-size=\"10.00\">output: </text>\n<polygon fill=\"none\" stroke=\"black\" points=\"329,-224 329,-245 406,-245 406,-224 329,-224\"/>\n<text text-anchor=\"start\" x=\"343\" y=\"-232\" font-family=\"Linux libertine\" font-size=\"10.00\">(8, 64) </text>\n</g>\n<!-- 29&#45;&gt;30 -->\n<g id=\"edge31\" class=\"edge\">\n<title>29&#45;&gt;30</title>\n<path fill=\"none\" stroke=\"black\" d=\"M299,-301.63C299,-293.82 299,-284.73 299,-276.18\"/>\n<polygon fill=\"black\" stroke=\"black\" points=\"302.5,-276.16 299,-266.16 295.5,-276.16 302.5,-276.16\"/>\n</g>\n<!-- 31 -->\n<g id=\"node32\" class=\"node\">\n<title>31</title>\n<polygon fill=\"#c1ffc1\" stroke=\"transparent\" points=\"384.5,-188 213.5,-188 213.5,-146 384.5,-146 384.5,-188\"/>\n<polygon fill=\"none\" stroke=\"black\" points=\"214,-146 214,-188 267,-188 267,-146 214,-146\"/>\n<text text-anchor=\"start\" x=\"222\" y=\"-170\" font-family=\"Linux libertine\" font-size=\"10.00\">Linear</text>\n<text text-anchor=\"start\" x=\"219\" y=\"-159\" font-family=\"Linux libertine\" font-size=\"10.00\">depth:1</text>\n<polygon fill=\"none\" stroke=\"black\" points=\"267,-167 267,-188 326,-188 326,-167 267,-167\"/>\n<text text-anchor=\"start\" x=\"278\" y=\"-175\" font-family=\"Linux libertine\" font-size=\"10.00\">input:</text>\n<polygon fill=\"none\" stroke=\"black\" points=\"326,-167 326,-188 385,-188 385,-167 326,-167\"/>\n<text text-anchor=\"start\" x=\"331\" y=\"-175\" font-family=\"Linux libertine\" font-size=\"10.00\">(8, 64) </text>\n<polygon fill=\"none\" stroke=\"black\" points=\"267,-146 267,-167 326,-167 326,-146 267,-146\"/>\n<text text-anchor=\"start\" x=\"272\" y=\"-154\" font-family=\"Linux libertine\" font-size=\"10.00\">output: </text>\n<polygon fill=\"none\" stroke=\"black\" points=\"326,-146 326,-167 385,-167 385,-146 326,-146\"/>\n<text text-anchor=\"start\" x=\"331\" y=\"-154\" font-family=\"Linux libertine\" font-size=\"10.00\">(8, 10) </text>\n</g>\n<!-- 30&#45;&gt;31 -->\n<g id=\"edge32\" class=\"edge\">\n<title>30&#45;&gt;31</title>\n<path fill=\"none\" stroke=\"black\" d=\"M299,-223.63C299,-215.82 299,-206.73 299,-198.18\"/>\n<polygon fill=\"black\" stroke=\"black\" points=\"302.5,-198.16 299,-188.16 295.5,-198.16 302.5,-198.16\"/>\n</g>\n<!-- 32 -->\n<g id=\"node33\" class=\"node\">\n<title>32</title>\n<polygon fill=\"#c1ffc1\" stroke=\"transparent\" points=\"393.5,-110 204.5,-110 204.5,-68 393.5,-68 393.5,-110\"/>\n<polygon fill=\"none\" stroke=\"black\" points=\"205,-68 205,-110 276,-110 276,-68 205,-68\"/>\n<text text-anchor=\"start\" x=\"210\" y=\"-92\" font-family=\"Linux libertine\" font-size=\"10.00\">LogSoftmax</text>\n<text text-anchor=\"start\" x=\"219\" y=\"-81\" font-family=\"Linux libertine\" font-size=\"10.00\">depth:1</text>\n<polygon fill=\"none\" stroke=\"black\" points=\"276,-89 276,-110 335,-110 335,-89 276,-89\"/>\n<text text-anchor=\"start\" x=\"287\" y=\"-97\" font-family=\"Linux libertine\" font-size=\"10.00\">input:</text>\n<polygon fill=\"none\" stroke=\"black\" points=\"335,-89 335,-110 394,-110 394,-89 335,-89\"/>\n<text text-anchor=\"start\" x=\"340\" y=\"-97\" font-family=\"Linux libertine\" font-size=\"10.00\">(8, 10) </text>\n<polygon fill=\"none\" stroke=\"black\" points=\"276,-68 276,-89 335,-89 335,-68 276,-68\"/>\n<text text-anchor=\"start\" x=\"281\" y=\"-76\" font-family=\"Linux libertine\" font-size=\"10.00\">output: </text>\n<polygon fill=\"none\" stroke=\"black\" points=\"335,-68 335,-89 394,-89 394,-68 335,-68\"/>\n<text text-anchor=\"start\" x=\"340\" y=\"-76\" font-family=\"Linux libertine\" font-size=\"10.00\">(8, 10) </text>\n</g>\n<!-- 31&#45;&gt;32 -->\n<g id=\"edge33\" class=\"edge\">\n<title>31&#45;&gt;32</title>\n<path fill=\"none\" stroke=\"black\" d=\"M299,-145.63C299,-137.82 299,-128.73 299,-120.18\"/>\n<polygon fill=\"black\" stroke=\"black\" points=\"302.5,-120.16 299,-110.16 295.5,-120.16 302.5,-120.16\"/>\n</g>\n<!-- 33 -->\n<g id=\"node34\" class=\"node\">\n<title>33</title>\n<polygon fill=\"lightyellow\" stroke=\"transparent\" points=\"370,-32 228,-32 228,0 370,0 370,-32\"/>\n<polygon fill=\"none\" stroke=\"black\" points=\"228,0 228,-32 317,-32 317,0 228,0\"/>\n<text text-anchor=\"start\" x=\"233\" y=\"-19\" font-family=\"Linux libertine\" font-size=\"10.00\">output&#45;tensor</text>\n<text text-anchor=\"start\" x=\"251\" y=\"-8\" font-family=\"Linux libertine\" font-size=\"10.00\">depth:0</text>\n<polygon fill=\"none\" stroke=\"black\" points=\"317,0 317,-32 370,-32 370,0 317,0\"/>\n<text text-anchor=\"start\" x=\"322\" y=\"-13.5\" font-family=\"Linux libertine\" font-size=\"10.00\">(8, 10)</text>\n</g>\n<!-- 32&#45;&gt;33 -->\n<g id=\"edge34\" class=\"edge\">\n<title>32&#45;&gt;33</title>\n<path fill=\"none\" stroke=\"black\" d=\"M299,-67.84C299,-59.89 299,-50.66 299,-42.26\"/>\n<polygon fill=\"black\" stroke=\"black\" points=\"302.5,-42.24 299,-32.24 295.5,-42.24 302.5,-42.24\"/>\n</g>\n</g>\n</svg>\n",
            "text/plain": [
              "<graphviz.graphs.Digraph at 0x7be911707370>"
            ]
          },
          "metadata": {}
        }
      ]
    },
    {
      "cell_type": "code",
      "source": [
        "! pip install torchinfo"
      ],
      "metadata": {
        "colab": {
          "base_uri": "https://localhost:8080/"
        },
        "id": "YB7tZm1PmXop",
        "outputId": "b651ecea-02ae-496f-aa0b-ce514bff5ed4"
      },
      "execution_count": 15,
      "outputs": [
        {
          "output_type": "stream",
          "name": "stdout",
          "text": [
            "Collecting torchinfo\n",
            "  Downloading torchinfo-1.8.0-py3-none-any.whl.metadata (21 kB)\n",
            "Downloading torchinfo-1.8.0-py3-none-any.whl (23 kB)\n",
            "Installing collected packages: torchinfo\n",
            "Successfully installed torchinfo-1.8.0\n"
          ]
        }
      ]
    },
    {
      "cell_type": "code",
      "source": [
        "from torchinfo import summary\n",
        "\n",
        "summary(model, (1, 2, 1, 28, 28))"
      ],
      "metadata": {
        "colab": {
          "base_uri": "https://localhost:8080/"
        },
        "id": "cIFXJSDJmWmQ",
        "outputId": "c1083c63-984c-47a8-8afa-0bbb815b172b"
      },
      "execution_count": 16,
      "outputs": [
        {
          "output_type": "execute_result",
          "data": {
            "text/plain": [
              "==========================================================================================\n",
              "Layer (type:depth-idx)                   Output Shape              Param #\n",
              "==========================================================================================\n",
              "CRNN                                     [1, 10]                   --\n",
              "├─Sequential: 1-1                        [1, 32]                   --\n",
              "│    └─Conv2d: 2-1                       [1, 8, 28, 28]            80\n",
              "│    └─ReLU: 2-2                         [1, 8, 28, 28]            --\n",
              "│    └─MaxPool2d: 2-3                    [1, 8, 14, 14]            --\n",
              "│    └─Conv2d: 2-4                       [1, 16, 14, 14]           1,168\n",
              "│    └─ReLU: 2-5                         [1, 16, 14, 14]           --\n",
              "│    └─MaxPool2d: 2-6                    [1, 16, 7, 7]             --\n",
              "│    └─Conv2d: 2-7                       [1, 32, 7, 7]             4,640\n",
              "│    └─ReLU: 2-8                         [1, 32, 7, 7]             --\n",
              "│    └─MaxPool2d: 2-9                    [1, 32, 3, 3]             --\n",
              "│    └─AdaptiveAvgPool2d: 2-10           [1, 32, 1, 1]             --\n",
              "│    └─Flatten: 2-11                     [1, 32]                   --\n",
              "├─Sequential: 1-2                        [1, 32]                   (recursive)\n",
              "│    └─Conv2d: 2-12                      [1, 8, 28, 28]            (recursive)\n",
              "│    └─ReLU: 2-13                        [1, 8, 28, 28]            --\n",
              "│    └─MaxPool2d: 2-14                   [1, 8, 14, 14]            --\n",
              "│    └─Conv2d: 2-15                      [1, 16, 14, 14]           (recursive)\n",
              "│    └─ReLU: 2-16                        [1, 16, 14, 14]           --\n",
              "│    └─MaxPool2d: 2-17                   [1, 16, 7, 7]             --\n",
              "│    └─Conv2d: 2-18                      [1, 32, 7, 7]             (recursive)\n",
              "│    └─ReLU: 2-19                        [1, 32, 7, 7]             --\n",
              "│    └─MaxPool2d: 2-20                   [1, 32, 3, 3]             --\n",
              "│    └─AdaptiveAvgPool2d: 2-21           [1, 32, 1, 1]             --\n",
              "│    └─Flatten: 2-22                     [1, 32]                   --\n",
              "├─LSTM: 1-3                              [1, 2, 64]                25,088\n",
              "├─Linear: 1-4                            [1, 10]                   650\n",
              "├─LogSoftmax: 1-5                        [1, 10]                   --\n",
              "==========================================================================================\n",
              "Total params: 31,626\n",
              "Trainable params: 31,626\n",
              "Non-trainable params: 0\n",
              "Total mult-adds (M): 1.09\n",
              "==========================================================================================\n",
              "Input size (MB): 0.01\n",
              "Forward/backward pass size (MB): 0.18\n",
              "Params size (MB): 0.13\n",
              "Estimated Total Size (MB): 0.31\n",
              "=========================================================================================="
            ]
          },
          "metadata": {},
          "execution_count": 16
        }
      ]
    },
    {
      "cell_type": "markdown",
      "source": [
        "### Training"
      ],
      "metadata": {
        "id": "RhF9cutMp-uD"
      }
    },
    {
      "cell_type": "code",
      "source": [
        "def train_1epoch(model, train_loader, loss_function, optimizer, device):\n",
        "    model.train()\n",
        "    total_loss = 0.0\n",
        "    correct = 0\n",
        "\n",
        "    for x, y in tqdm(train_loader):\n",
        "        x = x.to(device)\n",
        "        y = y.to(device)\n",
        "\n",
        "        optimizer.zero_grad()\n",
        "\n",
        "        pred = model(x)\n",
        "\n",
        "        loss = loss_function(pred, y)\n",
        "        loss.backward()\n",
        "\n",
        "        optimizer.step()\n",
        "\n",
        "        total_loss += loss.item()\n",
        "\n",
        "        correct += (torch.argmax(pred, dim=1) == y).sum()\n",
        "\n",
        "    avg_loss = total_loss / len(train_loader.dataset)\n",
        "    acc = correct / len(train_loader.dataset)\n",
        "\n",
        "    return avg_loss, acc"
      ],
      "metadata": {
        "id": "7gfLDpVvpBKc"
      },
      "execution_count": 17,
      "outputs": []
    },
    {
      "cell_type": "code",
      "source": [
        "def validate_1epoch(model, val_loader, loss_function, device):\n",
        "    model.eval()\n",
        "    total_loss = 0.0\n",
        "    correct = 0\n",
        "\n",
        "    with torch.no_grad():\n",
        "        for x, y in tqdm(val_loader):\n",
        "            x = x.to(device)\n",
        "            y = y.to(device)\n",
        "\n",
        "            pred = model(x)\n",
        "            loss = loss_function(pred, y)\n",
        "\n",
        "            total_loss += loss.item()\n",
        "            correct += (torch.argmax(pred, dim=1) == y).sum()\n",
        "\n",
        "    avg_loss = total_loss / len(val_loader.dataset)\n",
        "    acc = correct / len(val_loader.dataset)\n",
        "\n",
        "    return avg_loss, acc"
      ],
      "metadata": {
        "id": "zIaU0Li-pQCR"
      },
      "execution_count": 18,
      "outputs": []
    },
    {
      "cell_type": "code",
      "source": [
        "device = torch.device(\"cuda:0\" if torch.cuda.is_available() else \"cpu\")\n",
        "optimizer = optim.Adam(model.parameters(), lr=1e-3)\n",
        "loss_function = nn.NLLLoss()"
      ],
      "metadata": {
        "id": "TS83FpdSpRkK"
      },
      "execution_count": 19,
      "outputs": []
    },
    {
      "cell_type": "code",
      "source": [
        "num_of_epochs = 20\n",
        "train_losses = []\n",
        "valid_losses = []\n",
        "train_accuracy = []\n",
        "valid_accuracy = []\n",
        "\n",
        "model.to(device)\n",
        "\n",
        "for epoch in range(num_of_epochs):\n",
        "    loss, acc = train_1epoch(model, train_loader, loss_function, optimizer, device)\n",
        "    valid_loss, valid_acc = validate_1epoch(model, valid_loader, loss_function, device)\n",
        "\n",
        "    train_losses.append(loss)\n",
        "    valid_losses.append(valid_loss)\n",
        "    train_accuracy.append(acc)\n",
        "    valid_accuracy.append(valid_acc)\n",
        "\n",
        "    print(f\"epoch: {epoch}, train_loss: {loss:.5f}, acc: {acc:.5f}, valid_loss: {valid_loss:.5f}, valid_acc: {valid_acc:.5f}\")\n",
        "\n",
        "plt.plot(train_losses, label=\"train_losses\")\n",
        "plt.plot(valid_losses, label=\"valid_losses\")\n",
        "plt.xlabel(\"epoch\")\n",
        "plt.ylabel(\"loss\")\n",
        "plt.minorticks_on()\n",
        "plt.grid(which=\"both\")\n",
        "plt.legend()\n",
        "plt.show()"
      ],
      "metadata": {
        "colab": {
          "base_uri": "https://localhost:8080/",
          "height": 1000
        },
        "id": "-ljIpYGMpWQ_",
        "outputId": "9f98fbd7-3de7-4a34-8838-47b8accb9cba"
      },
      "execution_count": 20,
      "outputs": [
        {
          "output_type": "stream",
          "name": "stderr",
          "text": [
            "100%|██████████| 938/938 [00:21<00:00, 44.40it/s]\n",
            "100%|██████████| 157/157 [00:01<00:00, 103.56it/s]\n"
          ]
        },
        {
          "output_type": "stream",
          "name": "stdout",
          "text": [
            "epoch: 0, train_loss: 0.07206, acc: 0.10167, valid_loss: 0.07232, valid_acc: 0.12040\n"
          ]
        },
        {
          "output_type": "stream",
          "name": "stderr",
          "text": [
            "100%|██████████| 938/938 [00:20<00:00, 46.56it/s]\n",
            "100%|██████████| 157/157 [00:02<00:00, 76.22it/s]\n"
          ]
        },
        {
          "output_type": "stream",
          "name": "stdout",
          "text": [
            "epoch: 1, train_loss: 0.07200, acc: 0.10487, valid_loss: 0.07197, valid_acc: 0.12220\n"
          ]
        },
        {
          "output_type": "stream",
          "name": "stderr",
          "text": [
            "100%|██████████| 938/938 [00:19<00:00, 47.91it/s]\n",
            "100%|██████████| 157/157 [00:01<00:00, 108.10it/s]\n"
          ]
        },
        {
          "output_type": "stream",
          "name": "stdout",
          "text": [
            "epoch: 2, train_loss: 0.06118, acc: 0.26680, valid_loss: 0.04327, valid_acc: 0.52100\n"
          ]
        },
        {
          "output_type": "stream",
          "name": "stderr",
          "text": [
            "100%|██████████| 938/938 [00:20<00:00, 45.87it/s]\n",
            "100%|██████████| 157/157 [00:01<00:00, 107.82it/s]\n"
          ]
        },
        {
          "output_type": "stream",
          "name": "stdout",
          "text": [
            "epoch: 3, train_loss: 0.02716, acc: 0.75953, valid_loss: 0.01603, valid_acc: 0.88240\n"
          ]
        },
        {
          "output_type": "stream",
          "name": "stderr",
          "text": [
            "100%|██████████| 938/938 [00:21<00:00, 43.59it/s]\n",
            "100%|██████████| 157/157 [00:01<00:00, 108.66it/s]\n"
          ]
        },
        {
          "output_type": "stream",
          "name": "stdout",
          "text": [
            "epoch: 4, train_loss: 0.01202, acc: 0.90953, valid_loss: 0.00960, valid_acc: 0.92400\n"
          ]
        },
        {
          "output_type": "stream",
          "name": "stderr",
          "text": [
            "100%|██████████| 938/938 [00:19<00:00, 48.14it/s]\n",
            "100%|██████████| 157/157 [00:01<00:00, 101.83it/s]\n"
          ]
        },
        {
          "output_type": "stream",
          "name": "stdout",
          "text": [
            "epoch: 5, train_loss: 0.00829, acc: 0.93393, valid_loss: 0.00798, valid_acc: 0.93480\n"
          ]
        },
        {
          "output_type": "stream",
          "name": "stderr",
          "text": [
            "100%|██████████| 938/938 [00:20<00:00, 46.12it/s]\n",
            "100%|██████████| 157/157 [00:01<00:00, 109.78it/s]\n"
          ]
        },
        {
          "output_type": "stream",
          "name": "stdout",
          "text": [
            "epoch: 6, train_loss: 0.00641, acc: 0.94723, valid_loss: 0.00703, valid_acc: 0.93940\n"
          ]
        },
        {
          "output_type": "stream",
          "name": "stderr",
          "text": [
            "100%|██████████| 938/938 [00:20<00:00, 45.84it/s]\n",
            "100%|██████████| 157/157 [00:01<00:00, 107.31it/s]\n"
          ]
        },
        {
          "output_type": "stream",
          "name": "stdout",
          "text": [
            "epoch: 7, train_loss: 0.00531, acc: 0.95413, valid_loss: 0.00623, valid_acc: 0.94580\n"
          ]
        },
        {
          "output_type": "stream",
          "name": "stderr",
          "text": [
            "100%|██████████| 938/938 [00:27<00:00, 34.43it/s]\n",
            "100%|██████████| 157/157 [00:01<00:00, 108.39it/s]\n"
          ]
        },
        {
          "output_type": "stream",
          "name": "stdout",
          "text": [
            "epoch: 8, train_loss: 0.00455, acc: 0.96190, valid_loss: 0.00627, valid_acc: 0.94200\n"
          ]
        },
        {
          "output_type": "stream",
          "name": "stderr",
          "text": [
            "100%|██████████| 938/938 [00:23<00:00, 40.08it/s]\n",
            "100%|██████████| 157/157 [00:01<00:00, 111.04it/s]\n"
          ]
        },
        {
          "output_type": "stream",
          "name": "stdout",
          "text": [
            "epoch: 9, train_loss: 0.00399, acc: 0.96530, valid_loss: 0.00636, valid_acc: 0.94340\n"
          ]
        },
        {
          "output_type": "stream",
          "name": "stderr",
          "text": [
            "100%|██████████| 938/938 [00:19<00:00, 48.18it/s]\n",
            "100%|██████████| 157/157 [00:02<00:00, 70.72it/s]\n"
          ]
        },
        {
          "output_type": "stream",
          "name": "stdout",
          "text": [
            "epoch: 10, train_loss: 0.00360, acc: 0.96817, valid_loss: 0.00631, valid_acc: 0.94500\n"
          ]
        },
        {
          "output_type": "stream",
          "name": "stderr",
          "text": [
            "100%|██████████| 938/938 [00:20<00:00, 44.92it/s]\n",
            "100%|██████████| 157/157 [00:01<00:00, 111.10it/s]\n"
          ]
        },
        {
          "output_type": "stream",
          "name": "stdout",
          "text": [
            "epoch: 11, train_loss: 0.00317, acc: 0.97133, valid_loss: 0.00590, valid_acc: 0.94800\n"
          ]
        },
        {
          "output_type": "stream",
          "name": "stderr",
          "text": [
            "100%|██████████| 938/938 [00:20<00:00, 45.76it/s]\n",
            "100%|██████████| 157/157 [00:01<00:00, 106.76it/s]\n"
          ]
        },
        {
          "output_type": "stream",
          "name": "stdout",
          "text": [
            "epoch: 12, train_loss: 0.00293, acc: 0.97393, valid_loss: 0.00582, valid_acc: 0.94520\n"
          ]
        },
        {
          "output_type": "stream",
          "name": "stderr",
          "text": [
            "100%|██████████| 938/938 [00:20<00:00, 45.77it/s]\n",
            "100%|██████████| 157/157 [00:01<00:00, 109.93it/s]\n"
          ]
        },
        {
          "output_type": "stream",
          "name": "stdout",
          "text": [
            "epoch: 13, train_loss: 0.00267, acc: 0.97670, valid_loss: 0.00617, valid_acc: 0.94340\n"
          ]
        },
        {
          "output_type": "stream",
          "name": "stderr",
          "text": [
            "100%|██████████| 938/938 [00:19<00:00, 47.95it/s]\n",
            "100%|██████████| 157/157 [00:01<00:00, 110.17it/s]\n"
          ]
        },
        {
          "output_type": "stream",
          "name": "stdout",
          "text": [
            "epoch: 14, train_loss: 0.00249, acc: 0.97767, valid_loss: 0.00538, valid_acc: 0.94880\n"
          ]
        },
        {
          "output_type": "stream",
          "name": "stderr",
          "text": [
            "100%|██████████| 938/938 [00:20<00:00, 45.85it/s]\n",
            "100%|██████████| 157/157 [00:01<00:00, 110.25it/s]\n"
          ]
        },
        {
          "output_type": "stream",
          "name": "stdout",
          "text": [
            "epoch: 15, train_loss: 0.00235, acc: 0.97850, valid_loss: 0.00603, valid_acc: 0.94800\n"
          ]
        },
        {
          "output_type": "stream",
          "name": "stderr",
          "text": [
            "100%|██████████| 938/938 [00:20<00:00, 45.94it/s]\n",
            "100%|██████████| 157/157 [00:01<00:00, 109.96it/s]\n"
          ]
        },
        {
          "output_type": "stream",
          "name": "stdout",
          "text": [
            "epoch: 16, train_loss: 0.00202, acc: 0.98200, valid_loss: 0.00589, valid_acc: 0.94980\n"
          ]
        },
        {
          "output_type": "stream",
          "name": "stderr",
          "text": [
            "100%|██████████| 938/938 [00:19<00:00, 47.99it/s]\n",
            "100%|██████████| 157/157 [00:01<00:00, 100.06it/s]\n"
          ]
        },
        {
          "output_type": "stream",
          "name": "stdout",
          "text": [
            "epoch: 17, train_loss: 0.00208, acc: 0.98057, valid_loss: 0.00555, valid_acc: 0.94980\n"
          ]
        },
        {
          "output_type": "stream",
          "name": "stderr",
          "text": [
            "100%|██████████| 938/938 [00:20<00:00, 45.91it/s]\n",
            "100%|██████████| 157/157 [00:01<00:00, 109.71it/s]\n"
          ]
        },
        {
          "output_type": "stream",
          "name": "stdout",
          "text": [
            "epoch: 18, train_loss: 0.00190, acc: 0.98227, valid_loss: 0.00537, valid_acc: 0.95440\n"
          ]
        },
        {
          "output_type": "stream",
          "name": "stderr",
          "text": [
            "100%|██████████| 938/938 [00:20<00:00, 45.12it/s]\n",
            "100%|██████████| 157/157 [00:01<00:00, 105.02it/s]\n"
          ]
        },
        {
          "output_type": "stream",
          "name": "stdout",
          "text": [
            "epoch: 19, train_loss: 0.00159, acc: 0.98523, valid_loss: 0.00570, valid_acc: 0.95360\n"
          ]
        },
        {
          "output_type": "display_data",
          "data": {
            "text/plain": [
              "<Figure size 640x480 with 1 Axes>"
            ],
            "image/png": "[encoded data removed]"
          },
          "metadata": {}
        }
      ]
    },
    {
      "cell_type": "code",
      "source": [
        "plt.plot(train_accuracy, label=\"train_accuracy\")\n",
        "plt.plot(valid_accuracy, label=\"valid_accuracy\")\n",
        "plt.xlabel(\"epoch\")\n",
        "plt.ylabel(\"accuracy\")\n",
        "plt.grid()\n",
        "plt.legend()\n",
        "plt.ylim(0, 1.05)\n",
        "plt.xticks(range(num_of_epochs))\n",
        "plt.show()"
      ],
      "metadata": {
        "colab": {
          "base_uri": "https://localhost:8080/",
          "height": 449
        },
        "id": "zKIrWxgdKgNu",
        "outputId": "ea20ab82-267b-4639-ba8b-01c18157a6a2"
      },
      "execution_count": 27,
      "outputs": [
        {
          "output_type": "display_data",
          "data": {
            "text/plain": [
              "<Figure size 640x480 with 1 Axes>"
            ],
            "image/png": "[encoded data removed]"
          },
          "metadata": {}
        }
      ]
    }
  ]
}